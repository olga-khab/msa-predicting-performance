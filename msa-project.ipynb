{
 "cells": [
  {
   "cell_type": "markdown",
   "metadata": {},
   "source": [
    "# Education ..."
   ]
  },
  {
   "cell_type": "markdown",
   "metadata": {},
   "source": [
    "Project descriptions"
   ]
  },
  {
   "cell_type": "markdown",
   "metadata": {},
   "source": [
    "## Step 1: Loading and exploring the dataset"
   ]
  },
  {
   "cell_type": "code",
   "execution_count": 4,
   "metadata": {
    "scrolled": true
   },
   "outputs": [],
   "source": [
    "import pandas as pd\n",
    "from sklearn.preprocessing import OneHotEncoder\n",
    "import numpy as np\n",
    "# read in the mathematics dataset\n",
    "port_df = pd.read_csv(\"student-por.csv\", sep=\";\")\n"
   ]
  },
  {
   "cell_type": "markdown",
   "metadata": {},
   "source": [
    "## Step 2: Pre-processing"
   ]
  },
  {
   "cell_type": "code",
   "execution_count": 2,
   "metadata": {},
   "outputs": [
    {
     "name": "stdout",
     "output_type": "stream",
     "text": [
      "False\n"
     ]
    }
   ],
   "source": [
    "# Check for missing values\n",
    "print(port_df.isnull().values.any())"
   ]
  },
  {
   "cell_type": "markdown",
   "metadata": {},
   "source": [
    "G3 (final year grade) was calculated using G1 and G2 (1st and 2nd period grades). We will use G3 as the responce variable and later on as the class variable by converitng it to a discrete scale. Since G3 is correlated with G1 and G2, the period grade variables will not be used as predictors in this analysis.\n",
    "\n",
    "About categorical/numeric..."
   ]
  },
  {
   "cell_type": "markdown",
   "metadata": {},
   "source": []
  },
  {
   "cell_type": "code",
   "execution_count": 5,
   "metadata": {},
   "outputs": [],
   "source": [
    "# Remove G1 and G2 \n",
    "df = port_df.drop(['G1', 'G2'], axis = 1)\n",
    "\n",
    "#df.info()\n",
    "#<-------------------- Convert grade to a discrete scale ---------------------->#\n",
    "# Conversion intervals based on Portugal's grade classification system\n",
    "\n",
    "'''\n",
    "conditions = [\n",
    "    (df['G3'] >= 0) & (df['G3'] < 7),\n",
    "    (df['G3'] >= 7) & (df['G3'] < 10),\n",
    "    (df['G3'] >= 10) & (df['G3'] < 14),\n",
    "    (df['G3'] >= 14) & (df['G3'] < 16),\n",
    "    (df['G3'] >= 16) & (df['G3'] < 18),\n",
    "    (df['G3'] >= 18) & (df['G3'] <= 20)\n",
    "]\n",
    "choices = ['very poor', 'poor', 'sufficient', 'good', 'very good', 'excellent']\n",
    "'''\n",
    "\n",
    "# a less fragmented classification with groups lumped together\n",
    "\n",
    "conditions = [\n",
    "    (df['G3'] >= 0) & (df['G3'] < 10),\n",
    "    (df['G3'] >= 10) & (df['G3'] < 16),\n",
    "    (df['G3'] >= 16) & (df['G3'] <= 20)\n",
    "]\n",
    "\n",
    "choices = ['very poor to poor', 'sufficient to good', 'very good to excellent']\n",
    "\n",
    "\n",
    "# corresponding grade classifications\n",
    "\n",
    "df['G3_discrete'] = np.select(conditions, choices)\n",
    "\n",
    "conditions_binary = [\n",
    "    (df['G3'] >= 0) & (df['G3'] < 10),\n",
    "    (df['G3'] >= 10) & (df['G3'] <= 20)\n",
    "]\n",
    "\n",
    "choices_binary = ['fail', 'pass']\n",
    "df['G3_binary'] = np.select(conditions_binary, choices_binary)\n",
    "\n",
    "\n",
    "processed_df = df\n",
    "\n",
    "# No longer need numeric grade column\n",
    "#df = df.drop('G3', axis=1)\n",
    "\n",
    "#<-------------------- Treat ordinal attributes as categorical, not numeric ---------------------->#\n",
    "\n",
    "# Get column names\n",
    "attributes = list(df)\n",
    "# Exclude the attributes that should be treated as numeric\n",
    "attributes = [a for a in attributes if a not in ('age', 'absences', 'G3')]\n",
    "for attribute in attributes:\n",
    "    df[attribute] = df[attribute].astype('category',copy=False)\n",
    "\n",
    "\n",
    "#<-------------------- Change labels to numeric values ------------------------------------------->#\n",
    "\n",
    "# Some categorical variables are already encoded with numbers (e.g. studytime 0-4), we need to encode the rest\n",
    "# df.info()\n",
    "#attributes = list(df)\n",
    "#labels = [a for a in attributes if a not in ('age', 'absences', 'G3')]\n",
    "labels = df.select_dtypes(include=['category'])\n",
    "\n",
    "# object-type attributes are strings - we need to recode these\n",
    "#labels = df.select_dtypes(include = \"object\").columns\n",
    "from sklearn.preprocessing import LabelEncoder\n",
    "le = LabelEncoder()\n",
    "for l in labels:\n",
    "    df[l] = le.fit_transform(df[l].astype(str))\n",
    "#print(df.head())\n",
    "\n",
    "\n"
   ]
  },
  {
   "cell_type": "code",
   "execution_count": 6,
   "metadata": {},
   "outputs": [],
   "source": [
    "\n",
    "#<-------------------- Treat ordinal attributes as categorical, not numeric ---------------------->#\n",
    "\n",
    "# Get column names\n",
    "def category_converter(df):\n",
    "    attributes = list(df)\n",
    "    # Exclude the attributes that should be treated as numeric\n",
    "    attributes = [a for a in attributes if a not in ('age', 'absences', 'G3')]\n",
    "    for attribute in attributes:\n",
    "        df[attribute] = df[attribute].astype('category',copy=False)\n",
    "    return df\n",
    "\n",
    "\n",
    "#<-------------------- Change labels to numeric values ------------------------------------------->#\n",
    "\n",
    "# Some categorical variables are already encoded with numbers (e.g. studytime 0-4), we need to encode the rest\n",
    "# df.info()\n",
    "#attributes = list(df)\n",
    "#labels = [a for a in attributes if a not in ('age', 'absences', 'G3')]\n",
    "\n",
    "def label_encoder(df):\n",
    "    labels = df.select_dtypes(include=['category'])\n",
    "\n",
    "    # object-type attributes are strings - we need to recode these\n",
    "    #labels = df.select_dtypes(include = \"object\").columns\n",
    "    from sklearn.preprocessing import LabelEncoder\n",
    "    le = LabelEncoder()\n",
    "    for l in labels:\n",
    "        df[l] = le.fit_transform(df[l].astype(str))\n",
    "    return df\n",
    "    #print(df.head())\n",
    "    \n",
    "#<-------------------- One hot encoder ------------------------------------------->#\n",
    "\n",
    "\n",
    "def one_hot_encoder(df):\n",
    "    labels = df.select_dtypes(include=['category'])\n",
    "\n",
    "    # object-type attributes are strings - we need to recode these\n",
    "    #labels = df.select_dtypes(include = \"object\").columns\n",
    "    from sklearn.preprocessing import LabelEncoder\n",
    "    le = LabelEncoder()\n",
    "    for l in labels:\n",
    "        df[l] = le.fit_transform(df[l].astype(str))\n",
    "    return df\n",
    "    #print(df.head())\n"
   ]
  },
  {
   "cell_type": "code",
   "execution_count": 7,
   "metadata": {},
   "outputs": [
    {
     "name": "stderr",
     "output_type": "stream",
     "text": [
      "/anaconda/envs/azureml_py36/lib/python3.6/site-packages/statsmodels/tools/_testing.py:19: FutureWarning: pandas.util.testing is deprecated. Use the functions in the public API at pandas.testing instead.\n",
      "  import pandas.util.testing as tm\n"
     ]
    },
    {
     "data": {
      "text/plain": [
       "<matplotlib.axes._subplots.AxesSubplot at 0x7fa924341c50>"
      ]
     },
     "execution_count": 7,
     "metadata": {},
     "output_type": "execute_result"
    },
    {
     "data": {
      "image/png": "[encoded data removed]",
      "text/plain": [
       "<Figure size 432x288 with 1 Axes>"
      ]
     },
     "metadata": {},
     "output_type": "display_data"
    }
   ],
   "source": [
    "# check if G3 values make sense (are between 0 and 20)\n",
    "import seaborn as sn\n",
    "sn.set(color_codes=True)\n",
    "sn.distplot(df['G3'], kde=False)\n",
    "\n",
    "# As expected, the grade distribution is approximately bell-curved. \n",
    "# The class \"sufficient to good\" clearly dominates the dataset\n",
    "\n",
    "# Need to use under-sampling\n",
    "\n"
   ]
  },
  {
   "cell_type": "code",
   "execution_count": 19,
   "metadata": {},
   "outputs": [],
   "source": [
    "from sklearn.model_selection import train_test_split\n",
    "from sklearn.feature_selection import SelectKBest, chi2\n",
    "\n",
    "class_1 = df[df['G3_discrete'] == 1 ] \n",
    "class_0 = df[df['G3_discrete'] == 0 ].sample(len(class_1), random_state = 0)\n",
    "class_2 = df[df['G3_discrete'] == 2 ].sample(len(class_1), random_state = 0) \n",
    "frames = [class_1, class_2, class_0]\n",
    "balanced_sample = pd.concat(frames)\n",
    "\n",
    "#<-------------------- Correlation-Based Feature Selection -------------------------------------->\n",
    "X_cfs = balanced_sample.drop(['G3_discrete','G3_binary', 'G3'], axis=1)\n",
    "y = balanced_sample['G3_discrete']\n",
    "\n",
    "from skfeature.function.statistical_based import CFS\n",
    "idx = CFS.cfs(X_cfs.values, y)\n",
    "#df_cfs = balanced_sample.columns[idx]\n",
    "df_cfs = balanced_sample.iloc[:, idx]\n",
    "\n",
    "#<-------------------- Feature Selection (Chi-squared) -------------------------------------->\n",
    "X = balanced_sample.drop(['G3_discrete','G3_binary', 'G3'], axis=1)\n",
    "y = balanced_sample['G3_discrete']\n",
    "selector = SelectKBest(chi2, k=14)\n",
    "feature_data = selector.fit_transform(X, y)\n",
    "mask=selector.get_support()\n",
    "feature_names = X.columns[mask]\n",
    "df_selected = pd.DataFrame(feature_data, columns=feature_names)\n",
    "\n",
    "# full dataset with feature selection\n",
    "df_selected_full = pd.DataFrame(feature_data, columns=feature_names)\n",
    "\n",
    "# Now split the data into training and testing (80/20)\n",
    "train_x, test_x, train_y, test_y = train_test_split(df_selected, y, stratify=y, test_size=0.2, random_state=42)\n",
    "# no feature selection\n",
    "# train_x, test_x, train_y, test_y = train_test_split(df.drop(['G3_discrete','G3_binary', 'G3', 'school'], axis=1), df['G3_discrete'],stratify=df['G3_discrete'], test_size=0.2, random_state=42)\n",
    "#g_class = GaussianNB()\n",
    "\n",
    "#Train the model using the training sets\n",
    "#g_class.fit(train_x, train_y)\n",
    "\n",
    "#Predict the response for test dataset\n",
    "#pred_y = g_class.predict(test_x)\n",
    "\n",
    "#cm=metrics.confusion_matrix(test_y,pred_y)\n",
    "#df_cm = pd.DataFrame(cm, range(6), range(6))\n",
    "\n",
    "#sn.set(font_scale=1.4) # for label size\n",
    "#sn.heatmap(df_cm, annot=True, annot_kws={\"size\": 16}) # font size\n",
    "\n",
    "#plt.show()\n",
    "\n",
    "#np.count_nonzero(pred_y!=test_y)\n",
    "\n",
    "#sum(train_y==2)"
   ]
  },
  {
   "cell_type": "code",
   "execution_count": null,
   "metadata": {},
   "outputs": [],
   "source": []
  },
  {
   "cell_type": "code",
   "execution_count": 20,
   "metadata": {},
   "outputs": [
    {
     "name": "stdout",
     "output_type": "stream",
     "text": [
      "[2 5 5 5 4 4 4 4 2 2 5 5 5]\n",
      "              precision    recall  f1-score   support\n",
      "\n",
      "           0       0.69      0.69      0.69        16\n",
      "           1       0.77      0.59      0.67        17\n",
      "           2       0.67      0.82      0.74        17\n",
      "\n",
      "   micro avg       0.70      0.70      0.70        50\n",
      "   macro avg       0.71      0.70      0.70        50\n",
      "weighted avg       0.71      0.70      0.70        50\n",
      "\n",
      "0.7\n"
     ]
    },
    {
     "data": {
      "image/png": "[encoded data removed]",
      "text/plain": [
       "<Figure size 432x288 with 2 Axes>"
      ]
     },
     "metadata": {},
     "output_type": "display_data"
    }
   ],
   "source": [
    "# already installed the package with pip install mixed-naive-bayes\n",
    "from sklearn.feature_selection import SelectKBest, chi2\n",
    "from sklearn.metrics import classification_report\n",
    "from sklearn.metrics import confusion_matrix\n",
    "from mixed_naive_bayes import MixedNB\n",
    "\n",
    "indices=[]\n",
    "attributes = list(train_x)\n",
    "attributes = [a for a in attributes if a not in ('age', 'absences')]\n",
    "#print(attributes)\n",
    "#print(train_x)\n",
    "for attr in attributes:\n",
    "    indices.append(train_x.columns.get_loc(attr))\n",
    "\n",
    "clf = MixedNB(categorical_features=indices)\n",
    "\n",
    "clf.fit(train_x,train_y)\n",
    "pred = clf.predict(test_x)\n",
    "\n",
    "cm=confusion_matrix(test_y,pred)\n",
    "df_cm = pd.DataFrame(cm, range(3), range(3))\n",
    "\n",
    "sn.set(font_scale=1.4) # for label size\n",
    "sn.heatmap(df_cm, annot=True, annot_kws={\"size\": 16}, cmap=\"summer\") # font size\n",
    "\n",
    "\n",
    "# calculate accuracy of the model\n",
    "sum(pred==test_y)/len(test_y)\n",
    "\n",
    "#best\n",
    "#l=['class 0', 'class 1', 'class 2']\n",
    "print(classification_report(test_y, pred))\n",
    "\n",
    "print(sum(pred==test_y)/len(test_y))\n"
   ]
  },
  {
   "cell_type": "code",
   "execution_count": 825,
   "metadata": {},
   "outputs": [
    {
     "name": "stdout",
     "output_type": "stream",
     "text": [
      "<class 'pandas.core.frame.DataFrame'>\n",
      "RangeIndex: 246 entries, 0 to 245\n",
      "Data columns (total 14 columns):\n",
      "school        246 non-null int64\n",
      "Medu          246 non-null int64\n",
      "Fedu          246 non-null int64\n",
      "Mjob          246 non-null int64\n",
      "reason        246 non-null int64\n",
      "traveltime    246 non-null int64\n",
      "studytime     246 non-null int64\n",
      "failures      246 non-null int64\n",
      "schoolsup     246 non-null int64\n",
      "higher        246 non-null int64\n",
      "freetime      246 non-null int64\n",
      "Dalc          246 non-null int64\n",
      "Walc          246 non-null int64\n",
      "absences      246 non-null int64\n",
      "dtypes: int64(14)\n",
      "memory usage: 27.0 KB\n",
      "None\n"
     ]
    }
   ],
   "source": [
    "# selected features\n",
    "print(df_selected.info())"
   ]
  },
  {
   "cell_type": "code",
   "execution_count": 848,
   "metadata": {},
   "outputs": [
    {
     "data": {
      "text/plain": [
       "array([14, 20,  0,  7, 25,  6, 10, 23, 13])"
      ]
     },
     "execution_count": 848,
     "metadata": {},
     "output_type": "execute_result"
    }
   ],
   "source": [
    "from skfeature.function.statistical_based import CFS\n",
    "idx = CFS.cfs(X.values, y)\n"
   ]
  },
  {
   "cell_type": "code",
   "execution_count": 833,
   "metadata": {},
   "outputs": [
    {
     "data": {
      "text/plain": [
       "'\\ntest_joint = pd.DataFrame(test_x, test_y, pred)\\nfpr = dict()\\ntpr = dict()\\nroc_auc = dict()\\nfor i in range(3):\\n    fpr[i], tpr[i], _ = roc_curve(test_y[test_y==i], pred[test_y==i])\\n    roc_auc[i] = auc(fpr[i], tpr[i])\\n'"
      ]
     },
     "execution_count": 833,
     "metadata": {},
     "output_type": "execute_result"
    }
   ],
   "source": [
    "# Plot ROC curve\n",
    "from sklearn.metrics import roc_curve, auc\n",
    "'''\n",
    "test_joint = pd.DataFrame(test_x, test_y, pred)\n",
    "fpr = dict()\n",
    "tpr = dict()\n",
    "roc_auc = dict()\n",
    "for i in range(3):\n",
    "    fpr[i], tpr[i], _ = roc_curve(test_y[test_y==i], pred[test_y==i])\n",
    "    roc_auc[i] = auc(fpr[i], tpr[i])\n",
    "'''\n",
    "\n"
   ]
  },
  {
   "cell_type": "code",
   "execution_count": 23,
   "metadata": {},
   "outputs": [
    {
     "name": "stdout",
     "output_type": "stream",
     "text": [
      "<class 'pandas.core.frame.DataFrame'>\n",
      "Int64Index: 246 entries, 8 to 393\n",
      "Data columns (total 9 columns):\n",
      " #   Column     Non-Null Count  Dtype\n",
      "---  ------     --------------  -----\n",
      " 0   failures   246 non-null    int64\n",
      " 1   higher     246 non-null    int64\n",
      " 2   school     246 non-null    int64\n",
      " 3   Fedu       246 non-null    int64\n",
      " 4   goout      246 non-null    int64\n",
      " 5   Medu       246 non-null    int64\n",
      " 6   reason     246 non-null    int64\n",
      " 7   famrel     246 non-null    int64\n",
      " 8   studytime  246 non-null    int64\n",
      "dtypes: int64(9)\n",
      "memory usage: 19.2 KB\n",
      "None\n",
      "<class 'pandas.core.frame.DataFrame'>\n",
      "RangeIndex: 246 entries, 0 to 245\n",
      "Data columns (total 14 columns):\n",
      " #   Column      Non-Null Count  Dtype\n",
      "---  ------      --------------  -----\n",
      " 0   school      246 non-null    int64\n",
      " 1   Medu        246 non-null    int64\n",
      " 2   Fedu        246 non-null    int64\n",
      " 3   Mjob        246 non-null    int64\n",
      " 4   reason      246 non-null    int64\n",
      " 5   traveltime  246 non-null    int64\n",
      " 6   studytime   246 non-null    int64\n",
      " 7   failures    246 non-null    int64\n",
      " 8   schoolsup   246 non-null    int64\n",
      " 9   higher      246 non-null    int64\n",
      " 10  freetime    246 non-null    int64\n",
      " 11  Dalc        246 non-null    int64\n",
      " 12  Walc        246 non-null    int64\n",
      " 13  absences    246 non-null    int64\n",
      "dtypes: int64(14)\n",
      "memory usage: 27.0 KB\n",
      "None\n"
     ]
    },
    {
     "data": {
      "text/plain": [
       "<matplotlib.axes._subplots.AxesSubplot at 0x7fa916ce7358>"
      ]
     },
     "execution_count": 23,
     "metadata": {},
     "output_type": "execute_result"
    },
    {
     "data": {
      "image/png": "[encoded data removed]",
      "text/plain": [
       "<Figure size 432x288 with 1 Axes>"
      ]
     },
     "metadata": {},
     "output_type": "display_data"
    }
   ],
   "source": [
    "# Comments on NB assumptions\n",
    "#sn.distplot(df['age'], kde=False)\n",
    "print(df_cfs.info())\n",
    "print(df_selected.info())\n",
    "\n",
    "sn.distplot(df['absences'], kde=False)"
   ]
  },
  {
   "cell_type": "markdown",
   "metadata": {},
   "source": [
    "## Random forest"
   ]
  },
  {
   "cell_type": "code",
   "execution_count": 921,
   "metadata": {},
   "outputs": [],
   "source": [
    "from sklearn.ensemble import RandomForestClassifier\n",
    "# create model with 1000 decision trees\n",
    "rf = RandomForestRegressor(n_estimators = 1000, random_state = 42)\n",
    "# train the model\n",
    "rf.fit(train_x, train_y);\n",
    "\n"
   ]
  },
  {
   "cell_type": "code",
   "execution_count": 926,
   "metadata": {},
   "outputs": [
    {
     "name": "stdout",
     "output_type": "stream",
     "text": [
      "0.0\n"
     ]
    },
    {
     "data": {
      "text/plain": [
       "\"\\n# Import tools needed for visualization\\nfrom sklearn.tree import export_graphviz\\nimport pydot\\n# Pull out one tree from the forest\\ntree = rf.estimators_[5]\\n# \\nfrom sklearn.tree import export_graphviz\\n\\n# sudo apt install python-pydot python-pydot-ng graphviz\\nimport pydot\\n# Pull out one tree from the forest\\ntree = rf.estimators_[5]\\n# Export the image to a dot file\\nexport_graphviz(tree, out_file = 'tree.dot',  rounded = True, precision = 1)\\n# Use dot file to create a graph\\n(graph, ) = pydot.graph_from_dot_file('tree.dot')\\n# Write graph to a png file\\ngraph.write_png('tree.png')\\n\\nimport matplotlib.pyplot as plt\\nimport matplotlib.image as mpimg\\n\\nimg = mpimg.imread('tree.png')\\nplt.imshow(img)\\nplt.show()\\n\""
      ]
     },
     "execution_count": 926,
     "metadata": {},
     "output_type": "execute_result"
    }
   ],
   "source": [
    "#df['col_name'] = df['col_name'].astype('category')\n",
    "\n",
    "predictions = rf.predict(test_x)\n",
    "#print(sum(predictions==test_y)/len(test_y))\n",
    "# Calculate the absolute errors\n",
    "#errors = abs(predictions - test_y)\n",
    "# Print out the mean absolute error (mae)\n",
    "#print('Mean Absolute Error:', round(np.mean(errors), 2))\n",
    "#predictions\n",
    "#for p in predictions:\n",
    "#    p = np.round(p)\n",
    "    \n",
    "#predictions = [np.round(p) for p in predictions]\n",
    "print(sum(predictions==test_y)/len(test_y))\n",
    "#predictions\n",
    "'''\n",
    "# Import tools needed for visualization\n",
    "from sklearn.tree import export_graphviz\n",
    "import pydot\n",
    "# Pull out one tree from the forest\n",
    "tree = rf.estimators_[5]\n",
    "# \n",
    "from sklearn.tree import export_graphviz\n",
    "\n",
    "# sudo apt install python-pydot python-pydot-ng graphviz\n",
    "import pydot\n",
    "# Pull out one tree from the forest\n",
    "tree = rf.estimators_[5]\n",
    "# Export the image to a dot file\n",
    "export_graphviz(tree, out_file = 'tree.dot',  rounded = True, precision = 1)\n",
    "# Use dot file to create a graph\n",
    "(graph, ) = pydot.graph_from_dot_file('tree.dot')\n",
    "# Write graph to a png file\n",
    "graph.write_png('tree.png')\n",
    "\n",
    "import matplotlib.pyplot as plt\n",
    "import matplotlib.image as mpimg\n",
    "\n",
    "img = mpimg.imread('tree.png')\n",
    "plt.imshow(img)\n",
    "plt.show()\n",
    "'''"
   ]
  },
  {
   "cell_type": "code",
   "execution_count": 927,
   "metadata": {},
   "outputs": [
    {
     "data": {
      "text/plain": [
       "array([0.843, 0.336, 0.197, 0.572, 0.168, 0.887, 0.885, 0.804, 0.873,\n",
       "       0.134, 0.758, 0.459, 0.076, 0.939, 0.361, 0.174, 0.505, 0.275,\n",
       "       0.641, 0.465, 0.246, 1.044, 0.189, 0.251, 0.111, 0.677, 0.268,\n",
       "       0.506, 0.744, 0.72 , 0.273, 0.378, 0.815, 0.321, 0.394, 0.353,\n",
       "       0.211, 0.511, 0.194, 0.145, 0.455, 0.234, 0.162, 0.151, 0.348,\n",
       "       0.396, 0.326, 0.206, 0.906, 0.496, 0.333, 0.948, 0.187, 0.252,\n",
       "       0.444, 0.531, 0.222, 1.152, 0.224, 0.17 , 0.474, 0.175, 0.277,\n",
       "       0.577, 0.32 , 0.704, 0.355, 0.21 , 0.317, 0.244, 0.284, 1.036,\n",
       "       0.252, 0.648, 0.702, 0.89 , 0.694, 0.521, 0.071, 0.129, 0.564,\n",
       "       0.666, 0.514, 0.611, 0.257, 0.342, 1.208, 0.279, 0.391, 0.471,\n",
       "       0.294, 0.122, 0.474, 0.284, 0.988, 0.205, 1.202, 0.228, 0.583,\n",
       "       0.162, 0.235, 0.915, 0.91 , 0.372, 0.14 , 1.15 , 0.155, 0.28 ,\n",
       "       0.431, 1.526, 1.181, 0.735, 0.837, 0.111, 0.297, 0.67 , 0.165,\n",
       "       0.14 , 0.163, 0.51 , 0.412, 0.306, 0.04 , 0.251, 0.881, 0.165,\n",
       "       0.075, 0.891, 0.587, 0.241])"
      ]
     },
     "execution_count": 927,
     "metadata": {},
     "output_type": "execute_result"
    }
   ],
   "source": [
    "predictions"
   ]
  },
  {
   "cell_type": "code",
   "execution_count": 105,
   "metadata": {},
   "outputs": [
    {
     "name": "stderr",
     "output_type": "stream",
     "text": [
      "/anaconda/envs/azureml_py36/lib/python3.6/site-packages/sklearn/preprocessing/data.py:645: DataConversionWarning: Data with input dtype int64 were all converted to float64 by StandardScaler.\n",
      "  return self.partial_fit(X, y)\n",
      "/anaconda/envs/azureml_py36/lib/python3.6/site-packages/sklearn/base.py:464: DataConversionWarning: Data with input dtype int64 were all converted to float64 by StandardScaler.\n",
      "  return self.fit(X, **fit_params).transform(X)\n",
      "/anaconda/envs/azureml_py36/lib/python3.6/site-packages/ipykernel_launcher.py:42: DataConversionWarning: Data with input dtype int64 were all converted to float64 by StandardScaler.\n"
     ]
    }
   ],
   "source": [
    "# recode into binary\n",
    "rf_df = df_selected\n",
    "y = balanced_sample['G3_discrete']\n",
    "\n",
    "attributes = list(rf_df)\n",
    "attributes = [a for a in attributes if a not in ('age', 'absences', 'G3_discrete')]\n",
    "#labels = rf_df.select_dtypes(include=['category'])\n",
    "#attributes\n",
    "#ohe = OneHotEncoder()\n",
    "#for l in labels:\n",
    "#    rf_df[l] = ohe.fit_transform(rf_df[l].astype(str))\n",
    "#rf_df \n",
    "#rf = RandomForestRegressor(n_estimators = 1000, random_state = 42)\n",
    "\n",
    "#rf_df = pd.get_dummies(rf_df, prefix=attributes, columns=attributes) \n",
    "#rf_df['G3_discrete'] = le.fit_transform(rf_df['G3_discrete'].astype(str))\n",
    "#rf_class= pd.factorize(rf_df['G3_discrete'])\n",
    "#print(rf_df)\n",
    "\n",
    "#X = rf_df.drop(['G3_discrete', 'G3_binary'], axis=1)\n",
    "#y = rf_df['G3_discrete']\n",
    "#X = rf_df.drop(['G3_discrete'], axis=1)\n",
    "#y = rf_df['G3_discrete']\n",
    "train_x, test_x, train_y, test_y = train_test_split(rf_df, y, test_size=0.2, stratify = y, random_state=42)\n",
    "#rf.fit(train_x, train_y);\n",
    "#predictions = rf.predict(test_x)\n",
    "#print(sum(predictions==test_y)/len(test_y))\n",
    "# Calculate the absolute errors\n",
    "#errors = abs(predictions - test_y)\n",
    "# Print out the mean absolute error (mae)\n",
    "#print('Mean Absolute Error:', round(np.mean(errors), 2))\n",
    "#predictions\n",
    "#for p in predictions:\n",
    "#    p = np.round(p)\n",
    "    \n",
    "#predictions = [np.round(p) for p in predictions]\n",
    "#\n",
    "from sklearn.preprocessing import StandardScaler\n",
    "\n",
    "scaler = StandardScaler()\n",
    "train_x = scaler.fit_transform(train_x)\n",
    "test_x = scaler.transform(test_x)\n"
   ]
  },
  {
   "cell_type": "code",
   "execution_count": 147,
   "metadata": {},
   "outputs": [
    {
     "data": {
      "text/plain": [
       "RandomForestClassifier(bootstrap=True, class_weight=None, criterion='entropy',\n",
       "            max_depth=2, max_features='auto', max_leaf_nodes=None,\n",
       "            min_impurity_decrease=0.0, min_impurity_split=None,\n",
       "            min_samples_leaf=1, min_samples_split=2,\n",
       "            min_weight_fraction_leaf=0.0, n_estimators=1000, n_jobs=None,\n",
       "            oob_score=False, random_state=42, verbose=0, warm_start=False)"
      ]
     },
     "execution_count": 147,
     "metadata": {},
     "output_type": "execute_result"
    }
   ],
   "source": [
    "#from sklearn.preprocessing import StandardScaler\n",
    "from sklearn.ensemble import RandomForestClassifier\n",
    "\n",
    "# Using information gain (entropy) to evaluate how good a particular split is\n",
    "classifier = RandomForestClassifier(n_estimators = 1000, criterion = 'entropy',max_depth=2, random_state = 42)\n",
    "classifier.fit(train_x, train_y)"
   ]
  },
  {
   "cell_type": "code",
   "execution_count": null,
   "metadata": {},
   "outputs": [],
   "source": []
  },
  {
   "cell_type": "code",
   "execution_count": 150,
   "metadata": {},
   "outputs": [
    {
     "name": "stdout",
     "output_type": "stream",
     "text": [
      "0.66\n"
     ]
    }
   ],
   "source": [
    "#predictions\n",
    "predictions = classifier.predict(test_x)\n",
    "\n",
    "print(sum(predictions==test_y)/len(test_y))"
   ]
  },
  {
   "cell_type": "code",
   "execution_count": 136,
   "metadata": {},
   "outputs": [
    {
     "name": "stdout",
     "output_type": "stream",
     "text": [
      "              precision    recall  f1-score   support\n",
      "\n",
      "           0       0.64      0.44      0.52        16\n",
      "           1       0.69      0.65      0.67        17\n",
      "           2       0.61      0.82      0.70        17\n",
      "\n",
      "   micro avg       0.64      0.64      0.64        50\n",
      "   macro avg       0.64      0.64      0.63        50\n",
      "weighted avg       0.64      0.64      0.63        50\n",
      "\n"
     ]
    },
    {
     "data": {
      "image/png": "[encoded data removed]",
      "text/plain": [
       "<Figure size 432x288 with 2 Axes>"
      ]
     },
     "metadata": {},
     "output_type": "display_data"
    }
   ],
   "source": [
    "cm=confusion_matrix(test_y,predictions)\n",
    "df_cm = pd.DataFrame(cm, range(3), range(3))\n",
    "\n",
    "sn.set(font_scale=1.4) # for label size\n",
    "sn.heatmap(df_cm, annot=True, annot_kws={\"size\": 16}, cmap=\"summer\") # font size\n",
    "print(classification_report(test_y, predictions))\n"
   ]
  },
  {
   "cell_type": "code",
   "execution_count": 1092,
   "metadata": {},
   "outputs": [
    {
     "data": {
      "text/html": [
       "<div>\n",
       "<style scoped>\n",
       "    .dataframe tbody tr th:only-of-type {\n",
       "        vertical-align: middle;\n",
       "    }\n",
       "\n",
       "    .dataframe tbody tr th {\n",
       "        vertical-align: top;\n",
       "    }\n",
       "\n",
       "    .dataframe thead th {\n",
       "        text-align: right;\n",
       "    }\n",
       "</style>\n",
       "<table border=\"1\" class=\"dataframe\">\n",
       "  <thead>\n",
       "    <tr style=\"text-align: right;\">\n",
       "      <th></th>\n",
       "      <th>school</th>\n",
       "      <th>sex</th>\n",
       "      <th>age</th>\n",
       "      <th>address</th>\n",
       "      <th>famsize</th>\n",
       "      <th>Pstatus</th>\n",
       "      <th>Medu</th>\n",
       "      <th>Fedu</th>\n",
       "      <th>Mjob</th>\n",
       "      <th>Fjob</th>\n",
       "      <th>...</th>\n",
       "      <th>famrel</th>\n",
       "      <th>freetime</th>\n",
       "      <th>goout</th>\n",
       "      <th>Dalc</th>\n",
       "      <th>Walc</th>\n",
       "      <th>health</th>\n",
       "      <th>absences</th>\n",
       "      <th>G3</th>\n",
       "      <th>G3_discrete</th>\n",
       "      <th>G3_binary</th>\n",
       "    </tr>\n",
       "  </thead>\n",
       "  <tbody>\n",
       "  </tbody>\n",
       "</table>\n",
       "<p>0 rows × 33 columns</p>\n",
       "</div>"
      ],
      "text/plain": [
       "Empty DataFrame\n",
       "Columns: [school, sex, age, address, famsize, Pstatus, Medu, Fedu, Mjob, Fjob, reason, guardian, traveltime, studytime, failures, schoolsup, famsup, paid, activities, nursery, higher, internet, romantic, famrel, freetime, goout, Dalc, Walc, health, absences, G3, G3_discrete, G3_binary]\n",
       "Index: []\n",
       "\n",
       "[0 rows x 33 columns]"
      ]
     },
     "execution_count": 1092,
     "metadata": {},
     "output_type": "execute_result"
    }
   ],
   "source": [
    "balanced_sample"
   ]
  },
  {
   "cell_type": "code",
   "execution_count": null,
   "metadata": {},
   "outputs": [],
   "source": []
  }
 ],
 "metadata": {
  "kernelspec": {
   "display_name": "Python 3.6 - AzureML",
   "language": "python",
   "name": "python3-azureml"
  },
  "language_info": {
   "codemirror_mode": {
    "name": "ipython",
    "version": 3
   },
   "file_extension": ".py",
   "mimetype": "text/x-python",
   "name": "python",
   "nbconvert_exporter": "python",
   "pygments_lexer": "ipython3",
   "version": "3.6.9"
  }
 },
 "nbformat": 4,
 "nbformat_minor": 2
}
