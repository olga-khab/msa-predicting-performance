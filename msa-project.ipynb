{
 "cells": [
  {
   "cell_type": "markdown",
   "metadata": {},
   "source": [
    "# Predicting High School Student Performance "
   ]
  },
  {
   "cell_type": "markdown",
   "metadata": {},
   "source": [
    "## Step 1: Loading and brief exploration"
   ]
  },
  {
   "cell_type": "code",
   "execution_count": 1,
   "metadata": {},
   "outputs": [],
   "source": [
    "############# Install these if not already installed #########\n",
    "#! pip install mixed-naive-bayes \n",
    "#! conda install -c pchrapka scikit-feature\n",
    "##############################################################"
   ]
  },
  {
   "cell_type": "code",
   "execution_count": 2,
   "metadata": {
    "scrolled": true
   },
   "outputs": [
    {
     "data": {
      "text/html": [
       "<div>\n",
       "<style scoped>\n",
       "    .dataframe tbody tr th:only-of-type {\n",
       "        vertical-align: middle;\n",
       "    }\n",
       "\n",
       "    .dataframe tbody tr th {\n",
       "        vertical-align: top;\n",
       "    }\n",
       "\n",
       "    .dataframe thead th {\n",
       "        text-align: right;\n",
       "    }\n",
       "</style>\n",
       "<table border=\"1\" class=\"dataframe\">\n",
       "  <thead>\n",
       "    <tr style=\"text-align: right;\">\n",
       "      <th></th>\n",
       "      <th>school</th>\n",
       "      <th>sex</th>\n",
       "      <th>age</th>\n",
       "      <th>address</th>\n",
       "      <th>famsize</th>\n",
       "      <th>Pstatus</th>\n",
       "      <th>Medu</th>\n",
       "      <th>Fedu</th>\n",
       "      <th>Mjob</th>\n",
       "      <th>Fjob</th>\n",
       "      <th>...</th>\n",
       "      <th>famrel</th>\n",
       "      <th>freetime</th>\n",
       "      <th>goout</th>\n",
       "      <th>Dalc</th>\n",
       "      <th>Walc</th>\n",
       "      <th>health</th>\n",
       "      <th>absences</th>\n",
       "      <th>G1</th>\n",
       "      <th>G2</th>\n",
       "      <th>G3</th>\n",
       "    </tr>\n",
       "  </thead>\n",
       "  <tbody>\n",
       "    <tr>\n",
       "      <th>0</th>\n",
       "      <td>GP</td>\n",
       "      <td>F</td>\n",
       "      <td>18</td>\n",
       "      <td>U</td>\n",
       "      <td>GT3</td>\n",
       "      <td>A</td>\n",
       "      <td>4</td>\n",
       "      <td>4</td>\n",
       "      <td>at_home</td>\n",
       "      <td>teacher</td>\n",
       "      <td>...</td>\n",
       "      <td>4</td>\n",
       "      <td>3</td>\n",
       "      <td>4</td>\n",
       "      <td>1</td>\n",
       "      <td>1</td>\n",
       "      <td>3</td>\n",
       "      <td>4</td>\n",
       "      <td>0</td>\n",
       "      <td>11</td>\n",
       "      <td>11</td>\n",
       "    </tr>\n",
       "    <tr>\n",
       "      <th>1</th>\n",
       "      <td>GP</td>\n",
       "      <td>F</td>\n",
       "      <td>17</td>\n",
       "      <td>U</td>\n",
       "      <td>GT3</td>\n",
       "      <td>T</td>\n",
       "      <td>1</td>\n",
       "      <td>1</td>\n",
       "      <td>at_home</td>\n",
       "      <td>other</td>\n",
       "      <td>...</td>\n",
       "      <td>5</td>\n",
       "      <td>3</td>\n",
       "      <td>3</td>\n",
       "      <td>1</td>\n",
       "      <td>1</td>\n",
       "      <td>3</td>\n",
       "      <td>2</td>\n",
       "      <td>9</td>\n",
       "      <td>11</td>\n",
       "      <td>11</td>\n",
       "    </tr>\n",
       "    <tr>\n",
       "      <th>2</th>\n",
       "      <td>GP</td>\n",
       "      <td>F</td>\n",
       "      <td>15</td>\n",
       "      <td>U</td>\n",
       "      <td>LE3</td>\n",
       "      <td>T</td>\n",
       "      <td>1</td>\n",
       "      <td>1</td>\n",
       "      <td>at_home</td>\n",
       "      <td>other</td>\n",
       "      <td>...</td>\n",
       "      <td>4</td>\n",
       "      <td>3</td>\n",
       "      <td>2</td>\n",
       "      <td>2</td>\n",
       "      <td>3</td>\n",
       "      <td>3</td>\n",
       "      <td>6</td>\n",
       "      <td>12</td>\n",
       "      <td>13</td>\n",
       "      <td>12</td>\n",
       "    </tr>\n",
       "    <tr>\n",
       "      <th>3</th>\n",
       "      <td>GP</td>\n",
       "      <td>F</td>\n",
       "      <td>15</td>\n",
       "      <td>U</td>\n",
       "      <td>GT3</td>\n",
       "      <td>T</td>\n",
       "      <td>4</td>\n",
       "      <td>2</td>\n",
       "      <td>health</td>\n",
       "      <td>services</td>\n",
       "      <td>...</td>\n",
       "      <td>3</td>\n",
       "      <td>2</td>\n",
       "      <td>2</td>\n",
       "      <td>1</td>\n",
       "      <td>1</td>\n",
       "      <td>5</td>\n",
       "      <td>0</td>\n",
       "      <td>14</td>\n",
       "      <td>14</td>\n",
       "      <td>14</td>\n",
       "    </tr>\n",
       "    <tr>\n",
       "      <th>4</th>\n",
       "      <td>GP</td>\n",
       "      <td>F</td>\n",
       "      <td>16</td>\n",
       "      <td>U</td>\n",
       "      <td>GT3</td>\n",
       "      <td>T</td>\n",
       "      <td>3</td>\n",
       "      <td>3</td>\n",
       "      <td>other</td>\n",
       "      <td>other</td>\n",
       "      <td>...</td>\n",
       "      <td>4</td>\n",
       "      <td>3</td>\n",
       "      <td>2</td>\n",
       "      <td>1</td>\n",
       "      <td>2</td>\n",
       "      <td>5</td>\n",
       "      <td>0</td>\n",
       "      <td>11</td>\n",
       "      <td>13</td>\n",
       "      <td>13</td>\n",
       "    </tr>\n",
       "  </tbody>\n",
       "</table>\n",
       "<p>5 rows × 33 columns</p>\n",
       "</div>"
      ],
      "text/plain": [
       "  school sex  age address famsize Pstatus  Medu  Fedu     Mjob      Fjob  ...  \\\n",
       "0     GP   F   18       U     GT3       A     4     4  at_home   teacher  ...   \n",
       "1     GP   F   17       U     GT3       T     1     1  at_home     other  ...   \n",
       "2     GP   F   15       U     LE3       T     1     1  at_home     other  ...   \n",
       "3     GP   F   15       U     GT3       T     4     2   health  services  ...   \n",
       "4     GP   F   16       U     GT3       T     3     3    other     other  ...   \n",
       "\n",
       "  famrel freetime  goout  Dalc  Walc health absences  G1  G2  G3  \n",
       "0      4        3      4     1     1      3        4   0  11  11  \n",
       "1      5        3      3     1     1      3        2   9  11  11  \n",
       "2      4        3      2     2     3      3        6  12  13  12  \n",
       "3      3        2      2     1     1      5        0  14  14  14  \n",
       "4      4        3      2     1     2      5        0  11  13  13  \n",
       "\n",
       "[5 rows x 33 columns]"
      ]
     },
     "execution_count": 2,
     "metadata": {},
     "output_type": "execute_result"
    }
   ],
   "source": [
    "import pandas as pd\n",
    "# supress warnings\n",
    "import warnings\n",
    "warnings.filterwarnings('ignore')\n",
    "\n",
    "# read in the data\n",
    "port_df = pd.read_csv(\"student-por.csv\", sep=\";\")\n",
    "maths_df = pd.read_csv(\"student-mat.csv\", sep=\";\")\n",
    "\n",
    "# glance at the dataset\n",
    "port_df.head()"
   ]
  },
  {
   "cell_type": "code",
   "execution_count": 3,
   "metadata": {},
   "outputs": [
    {
     "name": "stdout",
     "output_type": "stream",
     "text": [
      "Portugese: (649, 33); Missing values: False\n",
      "Maths: (395, 33); Missing values: False\n"
     ]
    }
   ],
   "source": [
    "# get nuber of rows, columns and check for N/A\n",
    "print(\"Portugese: {}; Missing values: {}\".format(port_df.shape, port_df.isnull().values.any()))\n",
    "print(\"Maths: {}; Missing values: {}\".format(maths_df.shape, maths_df.isnull().values.any()))"
   ]
  },
  {
   "cell_type": "markdown",
   "metadata": {},
   "source": [
    "Neither have missing values, but the Portugese set has more records. Let's examine the grade distribution:"
   ]
  },
  {
   "cell_type": "code",
   "execution_count": 4,
   "metadata": {},
   "outputs": [
    {
     "data": {
      "image/png": "[encoded data removed]",
      "text/plain": [
       "<Figure size 432x288 with 2 Axes>"
      ]
     },
     "metadata": {
      "needs_background": "light"
     },
     "output_type": "display_data"
    }
   ],
   "source": [
    "# plot G3 to check the distribution and if values make sense (are between 0 and 20)\n",
    "import matplotlib.pyplot as plt\n",
    "import seaborn as sn\n",
    "fig, ax =plt.subplots(1,2)\n",
    "sn.set(color_codes=True)\n",
    "sn.distplot(maths_df['G3'], kde=False, ax=ax[0]).set_title('Maths')\n",
    "sn.distplot(port_df['G3'], kde=False, ax=ax[1]).set_title('Portugese')\n",
    "fig.show()"
   ]
  },
  {
   "cell_type": "markdown",
   "metadata": {},
   "source": [
    "As expected, the grades follow the Bell Curve. Interestingly, a lot more people performed extremely poorly in Maths than in Portugese. \n",
    "\n",
    "Since we want to convert G3 to a discrete scale, the Portugese set is more suitable as it is much larger (Using the Maths dataset will lead to highly imbalanced classes or a very small balanced set should we choose to undersample). From now on, we will proceed with the Portugese dataset only."
   ]
  },
  {
   "cell_type": "markdown",
   "metadata": {},
   "source": [
    "## Step 2: Pre-processing"
   ]
  },
  {
   "cell_type": "markdown",
   "metadata": {},
   "source": [
    "For the classification-type problem, we need to:\n",
    "1. Recode G3 into discrete scale:\n",
    "    * 0 <= G3 < 10 - `Very poor to poor`\n",
    "    * 10 <= G3 < 16 - `Sufficient to good`\n",
    "    * 16 <= G3 <= 20 - `Very good to excellent`\n",
    "2. Encode text variables as numeric (sklearn only accepts numeric values). \n",
    "3. Split the dataset into two: one without first and second period grades (G1 and G2) and one with the first period grade only. This is to make the problem more interesting - it will be easier to predict final performance if the student's past performance is known, but it's more exciting to try and predict the performance without knowing past grades at all. \n",
    "\n",
    "We already have some ordinal attributes (e.g. Mother's education, Father's education are between 1 and 4 (from no education to higher education)). A potential issue with mapping categories to numeric values is that some of the variables will (incorrectly) become ordinal. E.g. Mother's job:"
   ]
  },
  {
   "cell_type": "code",
   "execution_count": 5,
   "metadata": {},
   "outputs": [
    {
     "name": "stdout",
     "output_type": "stream",
     "text": [
      "<bound method NDFrame.head of 0       at_home\n",
      "1       at_home\n",
      "2       at_home\n",
      "3        health\n",
      "4         other\n",
      "         ...   \n",
      "644    services\n",
      "645     teacher\n",
      "646       other\n",
      "647    services\n",
      "648    services\n",
      "Name: Mjob, Length: 649, dtype: object>\n"
     ]
    }
   ],
   "source": [
    "print(port_df[\"Mjob\"].head)"
   ]
  },
  {
   "cell_type": "markdown",
   "metadata": {},
   "source": [
    "Encoding `Mjob` would incorrectly imply that one occupation is \"bigger/higher\" than another. The distance-based classifier will then give more weight to values that happen to be next to each other (e.g. two occupation encoded as 3 and 4 will get more weighting thatn occupations 1 and 4). A solution to this is using one hot-encoding, but it has some flaws, including introduction of multicollinearity (especially damaging for a Naive Bayes classifier). \n",
    "\n",
    "With that in mind, we will use standard label encoding and adjust depending on the classifier. "
   ]
  },
  {
   "cell_type": "code",
   "execution_count": 6,
   "metadata": {},
   "outputs": [],
   "source": [
    "import numpy as np\n",
    "\n",
    "#<------------------------------- Convert grade to a discrete scale ------------------------------->#\n",
    "# Conversion intervals based on Portugal's grade classification system (condensed)\n",
    "\n",
    "# Actual categories --- these were not used in the end to avoid fragmentationa nd imbalance\n",
    "'''\n",
    "conditions = [\n",
    "    (df['G3'] >= 0) & (df['G3'] < 7),\n",
    "    (df['G3'] >= 7) & (df['G3'] < 10),\n",
    "    (df['G3'] >= 10) & (df['G3'] < 14),\n",
    "    (df['G3'] >= 14) & (df['G3'] < 16),\n",
    "    (df['G3'] >= 16) & (df['G3'] < 18),\n",
    "    (df['G3'] >= 18) & (df['G3'] <= 20)\n",
    "]\n",
    "choices = ['very poor', 'poor', 'sufficient', 'good', 'very good', 'excellent']\n",
    "'''\n",
    "\n",
    "def convert_grade(df):\n",
    "    # a less fragmented classification with groups lumped together\n",
    "    conditions = [\n",
    "        (df['G3'] >= 0) & (df['G3'] < 10),\n",
    "        (df['G3'] >= 10) & (df['G3'] < 16),\n",
    "        (df['G3'] >= 16) & (df['G3'] <= 20)\n",
    "    ]\n",
    "    # labels to match the grade intervals\n",
    "    choices = [0, 1, 2]\n",
    "    # corresponding grade classifications\n",
    "    df['G3_discrete'] = np.select(conditions, choices)\n",
    "    \n",
    "    # mark ordinal attributes as categorical, not numeric\n",
    "    attributes = list(df)\n",
    "    # Exclude the attributes that should be treated as numeric\n",
    "    attributes = [a for a in attributes if a not in ('age', 'absences', 'G3', 'G1', 'G3_discrete')]\n",
    "    for attribute in attributes:\n",
    "        df[attribute] = df[attribute].astype('category',copy=False)\n",
    "    # no longer need G3\n",
    "    #df=df.drop(['G3'], axis=1)\n",
    "    return df\n",
    "\n",
    "#<------------------------------- Change labels to numeric values ------------------------------->#\n",
    "\n",
    "# sklearn only accepts numeric values; encode the categorical attributes \n",
    "def label_encode(df):\n",
    "    # assuming the categorical attributes have been marked accordingly\n",
    "    labels = df.select_dtypes(include=['category'])\n",
    "\n",
    "    # object-type attributes are strings - we need to recode these\n",
    "    #labels = df.select_dtypes(include = \"object\").columns\n",
    "    from sklearn.preprocessing import LabelEncoder\n",
    "    le = LabelEncoder()\n",
    "    for l in labels:\n",
    "        df[l] = le.fit_transform(df[l].astype(str))\n",
    "    return df\n",
    "\n",
    "\n",
    "# Subset without G1 and G2\n",
    "df_no_grade = port_df.drop(['G1', 'G2'], axis = 1)\n",
    "# Subset without G2\n",
    "df_grade = port_df.drop(['G2'], axis = 1)\n",
    "\n",
    "# process the frames and get rid of G3 column as it is no longer needed\n",
    "df_no_grade = label_encode(convert_grade(df_no_grade))\n",
    "df_grade = label_encode(convert_grade(df_grade))"
   ]
  },
  {
   "cell_type": "code",
   "execution_count": 7,
   "metadata": {},
   "outputs": [
    {
     "data": {
      "text/plain": [
       "G3_discrete\n",
       "0    100\n",
       "1    467\n",
       "2     82\n",
       "Name: G3_discrete, dtype: int64"
      ]
     },
     "execution_count": 7,
     "metadata": {},
     "output_type": "execute_result"
    }
   ],
   "source": [
    "# check class counts\n",
    "df_grade.groupby('G3_discrete')['G3_discrete'].count()"
   ]
  },
  {
   "cell_type": "markdown",
   "metadata": {},
   "source": [
    "Training on unbalanced samples makes most classifiers unable to generalise well and identify the less frequent classes - they will tend to label everything as the dominant class as it still gives good overall accuracy although it's not particularly useful. We will use undersampling to create balanced subset."
   ]
  },
  {
   "cell_type": "code",
   "execution_count": 8,
   "metadata": {},
   "outputs": [],
   "source": [
    "def balance_sample(df):\n",
    "    class_2 = df[df['G3_discrete'] == 2 ] \n",
    "    # randomly sample from the more prevalent classess to match the length of class 1\n",
    "    # specify a random state to generate the same sample every time we run the program - to monitor accuracy\n",
    "    class_0 = df[df['G3_discrete'] == 0 ].sample(len(class_2), random_state = 0)\n",
    "    class_1 = df[df['G3_discrete'] == 1 ].sample(len(class_2), random_state = 0) \n",
    "    frames = [class_1, class_2, class_0]\n",
    "    balanced_sample = pd.concat(frames)\n",
    "    return balanced_sample\n",
    "\n",
    "df_grade = balance_sample(df_grade)\n",
    "df_no_grade = balance_sample(df_no_grade)"
   ]
  },
  {
   "cell_type": "markdown",
   "metadata": {},
   "source": [
    "## Step 3: Feature selection"
   ]
  },
  {
   "cell_type": "markdown",
   "metadata": {},
   "source": [
    "Having a large number of attributes - 31 excluding G3 and G2 - can lead to overfitting, and it is unlikely that all of them are relevant to the student performance. High dimensionality also slows down training, although in our case the impact is not as sever since the  dataset is relatively small.\n",
    "\n",
    "We will use feature selection to filter out attributes that don't have a lot of impact on the target class.\n",
    "We are using the chi-squared statistic - the function will perform a chi-sqared test for independence and select k results witht he highest statistic (i.e. rejecting the hypothesis of independence). These attributes will have most impact on grade."
   ]
  },
  {
   "cell_type": "code",
   "execution_count": 9,
   "metadata": {},
   "outputs": [],
   "source": [
    "from sklearn.feature_selection import SelectKBest, chi2\n",
    "from skfeature.function.statistical_based import CFS\n",
    "\n",
    "#<-------------------- Feature Selection (Chi-squared) ------------------------------------------->\n",
    "def fs_chi(df,n_features):\n",
    "    X = df.drop(['G3_discrete', 'G3'], axis=1)\n",
    "    ## for random forest\n",
    "    #X = balanced_sample.drop(['G3_discrete','G3_binary', 'G3', 'reason','school','Mjob','Fjob'], axis=1)\n",
    "    y = df['G3_discrete']\n",
    "    # 14 features had the best result for bot NB and Random Forest\n",
    "    selector = SelectKBest(chi2, k=n_features)\n",
    "    feature_data = selector.fit_transform(X, y)\n",
    "    # map selected features back to original names\n",
    "    mask=selector.get_support()\n",
    "    feature_names = X.columns[mask]\n",
    "    df_selected = pd.DataFrame(feature_data, columns=feature_names)\n",
    "    return df_selected\n",
    "\n",
    "# correlation-based feature selection picks attributes that are strongly related to the target \n",
    "# but uncorrelated with one another - this should help meet the Naive Bayes assumption of independence\n",
    "#<-------------------- Correlation-Based Feature Selection -------------------------------------->\n",
    "def cfs(df):\n",
    "    X_cfs = df.drop(['G3_discrete', 'G3'], axis=1)\n",
    "    y = df['G3']\n",
    "    idx = CFS.cfs(X_cfs.values, y)\n",
    "    df_cfs = df.iloc[:, idx]\n",
    "    return df_cfs"
   ]
  },
  {
   "cell_type": "markdown",
   "metadata": {},
   "source": [
    "## Step 4: Classifiers"
   ]
  },
  {
   "cell_type": "markdown",
   "metadata": {},
   "source": [
    "### Naive Bayes"
   ]
  },
  {
   "cell_type": "code",
   "execution_count": 10,
   "metadata": {},
   "outputs": [],
   "source": [
    "from sklearn.model_selection import train_test_split\n",
    "from mixed_naive_bayes import MixedNB\n",
    "from sklearn.metrics import classification_report\n",
    "from sklearn.metrics import confusion_matrix\n",
    "\n",
    "def NB(df,y, stats=True):\n",
    "    # split into training and testing, use stratification to get same number of each class in splits   \n",
    "    train_x, test_x, train_y, test_y = train_test_split(df, y, stratify=y, test_size=0.2, random_state=42)\n",
    "    # get list of categorical attributes for mixed NB\n",
    "    indices=[]\n",
    "    attributes = list(train_x)\n",
    "    attributes = [a for a in attributes if a not in ('age', 'absences', 'G1', 'G2')]\n",
    "    for attr in attributes:\n",
    "        indices.append(train_x.columns.get_loc(attr))\n",
    "        \n",
    "    # create classifier\n",
    "    model = MixedNB(categorical_features=indices)\n",
    "    # train classifier\n",
    "    model.fit(train_x,train_y)\n",
    "    # predict using test set\n",
    "    predictions = model.predict(test_x)\n",
    "    # calculate accuracy of the model\n",
    "    print(\"\\nOverall accuracy: {}\\n\".format(sum(predictions==test_y)/len(test_y)))\n",
    "    # create confusion matrix\n",
    "    \n",
    "    # show full report and cm\n",
    "    if stats:\n",
    "        cm=confusion_matrix(test_y,predictions)\n",
    "        df_cm = pd.DataFrame(cm, range(3), range(3))\n",
    "        sn.set(font_scale=1.2) \n",
    "        sn.heatmap(df_cm, annot=True, annot_kws={\"size\": 16}, cmap=\"summer\") \n",
    "\n",
    "        print(classification_report(test_y, predictions))"
   ]
  },
  {
   "cell_type": "code",
   "execution_count": 11,
   "metadata": {},
   "outputs": [
    {
     "name": "stdout",
     "output_type": "stream",
     "text": [
      "[2 5 5 4 4 4 5 5]\n",
      "\n",
      "Overall accuracy: 0.86\n",
      "\n",
      "              precision    recall  f1-score   support\n",
      "\n",
      "           0       0.79      0.94      0.86        16\n",
      "           1       0.86      0.71      0.77        17\n",
      "           2       0.94      0.94      0.94        17\n",
      "\n",
      "   micro avg       0.86      0.86      0.86        50\n",
      "   macro avg       0.86      0.86      0.86        50\n",
      "weighted avg       0.86      0.86      0.86        50\n",
      "\n"
     ]
    },
    {
     "data": {
      "image/png": "[encoded data removed]",
      "text/plain": [
       "<Figure size 432x288 with 2 Axes>"
      ]
     },
     "metadata": {},
     "output_type": "display_data"
    }
   ],
   "source": [
    "# Dataset with G1\n",
    "# 10 features works best\n",
    "NB(fs_chi(df_grade,n_features=10),df_grade['G3_discrete'])"
   ]
  },
  {
   "cell_type": "code",
   "execution_count": 12,
   "metadata": {},
   "outputs": [
    {
     "name": "stdout",
     "output_type": "stream",
     "text": [
      "[2 5 4 4 5]\n",
      "\n",
      "Overall accuracy: 0.74\n",
      "\n",
      "              precision    recall  f1-score   support\n",
      "\n",
      "           0       0.76      0.81      0.79        16\n",
      "           1       0.67      0.59      0.62        17\n",
      "           2       0.78      0.82      0.80        17\n",
      "\n",
      "   micro avg       0.74      0.74      0.74        50\n",
      "   macro avg       0.74      0.74      0.74        50\n",
      "weighted avg       0.74      0.74      0.74        50\n",
      "\n"
     ]
    },
    {
     "data": {
      "image/png": "[encoded data removed]",
      "text/plain": [
       "<Figure size 432x288 with 2 Axes>"
      ]
     },
     "metadata": {},
     "output_type": "display_data"
    }
   ],
   "source": [
    "# Dataset without grades\n",
    "# this model work better with fewer features\n",
    "NB(fs_chi(df_no_grade, n_features = 6),df_no_grade['G3_discrete'])"
   ]
  },
  {
   "cell_type": "markdown",
   "metadata": {},
   "source": [
    "As expected, knowing at least one previous grade significanttly improves the accuracy. The nice thing is that even the model without grades is still performing well considering that randomly picking the class is 30% accuarte (in a balanced sample).\n",
    "\n",
    "Both models are reasonably good at predicting the minority classes - around 86% precision for the poorest and the best performance in classifier 1 and 67% in classifier 2. Recall, i.e. the number of true \"positives\" over the true number of \"positive\" exaples (positive is a given class), is also reasonably good in both models. Arguably, it is a more important metric in our case as in the real world we would want to be able to identify the \"outliers\" (e.g. students at a risk of failing). The second model's ability to detect fringe cases is certainly loewer than that of the first, but is still good given that we knew nothing of the student's performance tendencies.\n",
    "\n",
    "Finally, let's look at the selected features:"
   ]
  },
  {
   "cell_type": "code",
   "execution_count": 13,
   "metadata": {},
   "outputs": [
    {
     "name": "stdout",
     "output_type": "stream",
     "text": [
      "<class 'pandas.core.frame.DataFrame'>\n",
      "RangeIndex: 246 entries, 0 to 245\n",
      "Data columns (total 10 columns):\n",
      " #   Column     Non-Null Count  Dtype\n",
      "---  ------     --------------  -----\n",
      " 0   school     246 non-null    int64\n",
      " 1   Medu       246 non-null    int64\n",
      " 2   Mjob       246 non-null    int64\n",
      " 3   reason     246 non-null    int64\n",
      " 4   studytime  246 non-null    int64\n",
      " 5   failures   246 non-null    int64\n",
      " 6   Dalc       246 non-null    int64\n",
      " 7   Walc       246 non-null    int64\n",
      " 8   absences   246 non-null    int64\n",
      " 9   G1         246 non-null    int64\n",
      "dtypes: int64(10)\n",
      "memory usage: 19.3 KB\n",
      "None\n"
     ]
    }
   ],
   "source": [
    "# selected features -- model 1 (with G1)\n",
    "print(fs_chi(df_grade, 10).info())"
   ]
  },
  {
   "cell_type": "code",
   "execution_count": 14,
   "metadata": {},
   "outputs": [
    {
     "name": "stdout",
     "output_type": "stream",
     "text": [
      "<class 'pandas.core.frame.DataFrame'>\n",
      "RangeIndex: 246 entries, 0 to 245\n",
      "Data columns (total 6 columns):\n",
      " #   Column     Non-Null Count  Dtype\n",
      "---  ------     --------------  -----\n",
      " 0   school     246 non-null    int64\n",
      " 1   Medu       246 non-null    int64\n",
      " 2   studytime  246 non-null    int64\n",
      " 3   failures   246 non-null    int64\n",
      " 4   Walc       246 non-null    int64\n",
      " 5   absences   246 non-null    int64\n",
      "dtypes: int64(6)\n",
      "memory usage: 11.7 KB\n",
      "None\n"
     ]
    }
   ],
   "source": [
    "# selected features -- model 2 (no grades)\n",
    "print(fs_chi(df_no_grade, 6).info())"
   ]
  },
  {
   "cell_type": "markdown",
   "metadata": {},
   "source": [
    "Feature selection gave us simpler models (10 and 6 features form model 1 and model 2 respectively). We will also try correlation-based feature selection to remove multicollinearity."
   ]
  },
  {
   "cell_type": "code",
   "execution_count": 15,
   "metadata": {
    "scrolled": true
   },
   "outputs": [
    {
     "name": "stdout",
     "output_type": "stream",
     "text": [
      "[4 5 5]\n",
      "\n",
      "Overall accuracy: 0.84\n",
      "\n",
      "<class 'pandas.core.frame.DataFrame'>\n",
      "Int64Index: 246 entries, 593 to 443\n",
      "Data columns (total 6 columns):\n",
      " #   Column    Non-Null Count  Dtype\n",
      "---  ------    --------------  -----\n",
      " 0   G1        246 non-null    int64\n",
      " 1   absences  246 non-null    int64\n",
      " 2   failures  246 non-null    int64\n",
      " 3   Fedu      246 non-null    int64\n",
      " 4   goout     246 non-null    int64\n",
      " 5   age       246 non-null    int64\n",
      "dtypes: int64(6)\n",
      "memory usage: 13.5 KB\n"
     ]
    }
   ],
   "source": [
    "# Model 1 using CFS\n",
    "NB(cfs(df_grade),df_grade['G3_discrete'],False)\n",
    "cfs(df_grade).info()"
   ]
  },
  {
   "cell_type": "code",
   "execution_count": 16,
   "metadata": {},
   "outputs": [
    {
     "name": "stdout",
     "output_type": "stream",
     "text": [
      "[4 5 5 5 5 5 2 4 5 4 5 5 2 5 5 2 2 3 4]\n",
      "\n",
      "Overall accuracy: 0.7\n",
      "\n",
      "<class 'pandas.core.frame.DataFrame'>\n",
      "Int64Index: 246 entries, 593 to 443\n",
      "Data columns (total 21 columns):\n",
      " #   Column      Non-Null Count  Dtype\n",
      "---  ------      --------------  -----\n",
      " 0   absences    246 non-null    int64\n",
      " 1   failures    246 non-null    int64\n",
      " 2   Fedu        246 non-null    int64\n",
      " 3   age         246 non-null    int64\n",
      " 4   goout       246 non-null    int64\n",
      " 5   Medu        246 non-null    int64\n",
      " 6   Dalc        246 non-null    int64\n",
      " 7   health      246 non-null    int64\n",
      " 8   higher      246 non-null    int64\n",
      " 9   reason      246 non-null    int64\n",
      " 10  freetime    246 non-null    int64\n",
      " 11  studytime   246 non-null    int64\n",
      " 12  Mjob        246 non-null    int64\n",
      " 13  famrel      246 non-null    int64\n",
      " 14  school      246 non-null    int64\n",
      " 15  Walc        246 non-null    int64\n",
      " 16  Fjob        246 non-null    int64\n",
      " 17  nursery     246 non-null    int64\n",
      " 18  schoolsup   246 non-null    int64\n",
      " 19  guardian    246 non-null    int64\n",
      " 20  traveltime  246 non-null    int64\n",
      "dtypes: int64(21)\n",
      "memory usage: 42.3 KB\n"
     ]
    }
   ],
   "source": [
    "# Model 2 using CFS\n",
    "cfs = cfs(df_no_grade)\n",
    "NB(cfs,df_no_grade['G3_discrete'], False)\n",
    "cfs.info()"
   ]
  },
  {
   "cell_type": "markdown",
   "metadata": {},
   "source": [
    "Models with cfs performed slightly worse than those with more features. It is also worth noting that Mixed NB assumes that all continuous variables are normally distributed. This is not necessarily the case, e.g. with `absences`:"
   ]
  },
  {
   "cell_type": "code",
   "execution_count": 17,
   "metadata": {},
   "outputs": [
    {
     "data": {
      "text/plain": [
       "<matplotlib.axes._subplots.AxesSubplot at 0x7fbf9e4e40f0>"
      ]
     },
     "execution_count": 17,
     "metadata": {},
     "output_type": "execute_result"
    },
    {
     "data": {
      "image/png": "[encoded data removed]",
      "text/plain": [
       "<Figure size 432x288 with 1 Axes>"
      ]
     },
     "metadata": {},
     "output_type": "display_data"
    }
   ],
   "source": [
    "sn.distplot(df_grade['absences'], kde=False)"
   ]
  },
  {
   "cell_type": "markdown",
   "metadata": {},
   "source": [
    "### Random forest"
   ]
  },
  {
   "cell_type": "code",
   "execution_count": 18,
   "metadata": {},
   "outputs": [],
   "source": [
    "from sklearn.preprocessing import StandardScaler\n",
    "from sklearn.ensemble import RandomForestClassifier\n",
    "\n",
    "def RF(df, stats=True, model=None):\n",
    "    y = df_grade['G3_discrete']\n",
    "    # split into training and testing, use stratification to get same number of each class in splits\n",
    "    train_x, test_x, train_y, test_y = train_test_split(df, y, test_size=0.2, stratify = y, random_state=42)\n",
    "\n",
    "    # the attributes are measured on different scales, we need to scale them to be between 0 and 1 \n",
    "    # this wasn't an issue with NB as it works with proabilites and is not affected by the magnitudes\n",
    "    scaler = StandardScaler()\n",
    "    train_x = scaler.fit_transform(train_x)\n",
    "    test_x = scaler.transform(test_x)\n",
    "\n",
    "    if model is None:\n",
    "    # create a base model with 10 trees (by default uses gini to evaluate how good a split is)\n",
    "        model = RandomForestClassifier(random_state = 42)\n",
    "    else:\n",
    "        model = model\n",
    "    # train classifier\n",
    "    model.fit(train_x, train_y)\n",
    "    # evaluate classifier as before\n",
    "    predictions = model.predict(test_x)\n",
    "    print(\"\\nOverall accuracy: {}\\n\".format(sum(predictions==test_y)/len(test_y)))\n",
    "    \n",
    "    if stats:\n",
    "        cm=confusion_matrix(test_y,predictions)\n",
    "        df_cm = pd.DataFrame(cm, range(3), range(3))\n",
    "        sn.set(font_scale=1.4) # for label size\n",
    "        sn.heatmap(df_cm, annot=True, annot_kws={\"size\": 16}, cmap=\"summer\") # font size\n",
    "        print(classification_report(test_y, predictions))"
   ]
  },
  {
   "cell_type": "code",
   "execution_count": 19,
   "metadata": {},
   "outputs": [
    {
     "name": "stdout",
     "output_type": "stream",
     "text": [
      "\n",
      "Overall accuracy: 0.82\n",
      "\n",
      "              precision    recall  f1-score   support\n",
      "\n",
      "           0       0.75      0.94      0.83        16\n",
      "           1       0.79      0.65      0.71        17\n",
      "           2       0.94      0.88      0.91        17\n",
      "\n",
      "   micro avg       0.82      0.82      0.82        50\n",
      "   macro avg       0.82      0.82      0.82        50\n",
      "weighted avg       0.83      0.82      0.82        50\n",
      "\n"
     ]
    },
    {
     "data": {
      "image/png": "[encoded data removed]",
      "text/plain": [
       "<Figure size 432x288 with 2 Axes>"
      ]
     },
     "metadata": {},
     "output_type": "display_data"
    }
   ],
   "source": [
    "df_grade_fs = fs_chi(df_grade,6)\n",
    "RF(df_grade_fs)"
   ]
  },
  {
   "cell_type": "code",
   "execution_count": 20,
   "metadata": {},
   "outputs": [
    {
     "name": "stdout",
     "output_type": "stream",
     "text": [
      "\n",
      "Overall accuracy: 0.6\n",
      "\n",
      "              precision    recall  f1-score   support\n",
      "\n",
      "           0       0.73      0.69      0.71        16\n",
      "           1       0.47      0.53      0.50        17\n",
      "           2       0.62      0.59      0.61        17\n",
      "\n",
      "   micro avg       0.60      0.60      0.60        50\n",
      "   macro avg       0.61      0.60      0.61        50\n",
      "weighted avg       0.61      0.60      0.60        50\n",
      "\n"
     ]
    },
    {
     "data": {
      "image/png": "[encoded data removed]",
      "text/plain": [
       "<Figure size 432x288 with 2 Axes>"
      ]
     },
     "metadata": {},
     "output_type": "display_data"
    }
   ],
   "source": [
    "df_no_grade_fs = fs_chi(df_no_grade,30) # gives best peformance without feature selection\n",
    "RF(df_no_grade_fs) "
   ]
  },
  {
   "cell_type": "markdown",
   "metadata": {},
   "source": [
    "The default RF model performance isn't great, especially without G1. The hyperparameters that affect performance the most are the number of trees, evaluation method (we are using gini but another common one is entropy) and maximum tree depth. We will perform hyperparameter tuning using a grid of different hyperparameter values. Once the approximate best parameters are known, it will also be much easier to do some manual tuning."
   ]
  },
  {
   "cell_type": "code",
   "execution_count": 21,
   "metadata": {},
   "outputs": [
    {
     "name": "stdout",
     "output_type": "stream",
     "text": [
      "Fitting 3 folds for each of 300 candidates, totalling 900 fits\n"
     ]
    },
    {
     "name": "stderr",
     "output_type": "stream",
     "text": [
      "[Parallel(n_jobs=-1)]: Using backend LokyBackend with 4 concurrent workers.\n",
      "[Parallel(n_jobs=-1)]: Done  33 tasks      | elapsed:   17.7s\n",
      "[Parallel(n_jobs=-1)]: Done 154 tasks      | elapsed:  1.2min\n",
      "[Parallel(n_jobs=-1)]: Done 357 tasks      | elapsed:  2.8min\n",
      "[Parallel(n_jobs=-1)]: Done 640 tasks      | elapsed:  4.4min\n",
      "[Parallel(n_jobs=-1)]: Done 900 out of 900 | elapsed:  5.8min finished\n"
     ]
    },
    {
     "name": "stdout",
     "output_type": "stream",
     "text": [
      "Base model accuracy: 0.82\n",
      "With hyperparameter tuning: 0.82\n",
      "Selected hyperparameters: \n",
      "\n",
      "{'n_estimators': 1400, 'min_samples_split': 5, 'min_samples_leaf': 1, 'max_features': 'sqrt', 'max_depth': 100, 'criterion': 'gini', 'bootstrap': True}\n"
     ]
    }
   ],
   "source": [
    "# we can tune the hyperparameters (number of trees, depth, evaluation function etc.) with a Random Hyperparameter Grid\n",
    "from sklearn.model_selection import RandomizedSearchCV\n",
    "from sklearn.model_selection import GridSearchCV\n",
    "\n",
    "def hyperparam_tuning(df):\n",
    "    train_x, test_x, train_y, test_y = train_test_split(df, df_grade[\"G3_discrete\"], test_size=0.2, \n",
    "                                                        stratify = df_grade[\"G3_discrete\"], random_state=42)\n",
    "\n",
    "    criterion = ['entropy', 'gini']\n",
    "    # number of trees - 1000 seems to work well from just manual plugging in, anything below isn't good\n",
    "    n_estimators = [int(x) for x in np.linspace(start = 900, stop = 2000, num = 12)]\n",
    "    # max number of features considered for splitting at each node\n",
    "    max_features = ['sqrt', 'log2', 'auto']\n",
    "    # max tree depth - evaluate 10 common values\n",
    "    max_depth = [int(x) for x in np.linspace(10, 100, num = 10)]\n",
    "    # also evaluate having no limit on tree depth\n",
    "    max_depth.append(None)\n",
    "    # min number of examples needed to make a split\n",
    "    min_samples_split = [2, 5, 10]\n",
    "    # min number of examples in a leaf node\n",
    "    min_samples_leaf = [1, 2, 4]\n",
    "    bootstrap = [True, False]\n",
    "\n",
    "    # we will use random grid to search to evaluate different combaniations of hyperparameters\n",
    "    # create a grid of possible hyperparamenter values - this is our search space\n",
    "    random_grid = {'n_estimators': n_estimators,\n",
    "                   'criterion' : criterion,\n",
    "                   'max_features': max_features,\n",
    "                   'max_depth': max_depth,\n",
    "                   'min_samples_split': min_samples_split,\n",
    "                   'min_samples_leaf': min_samples_leaf,\n",
    "                   'bootstrap': bootstrap}\n",
    "\n",
    "    # the classifer\n",
    "    cv = RandomForestClassifier()\n",
    "    # go throgh 300 grid combinations, nd use 3-fold cross-validation to evaluate, show messages\n",
    "    rf_random = RandomizedSearchCV(estimator = cv, param_distributions = random_grid, \n",
    "                                   n_iter = 300, cv = 3, verbose=2, random_state=42, n_jobs = -1)\n",
    "    # Fit the random search model\n",
    "    rf_random.fit(train_x, train_y)\n",
    "    \n",
    "    # compare performance\n",
    "    base_model = RandomForestClassifier(random_state = 42)\n",
    "    base_model.fit(train_x, train_y)\n",
    "    predictions_base = base_model.predict(test_x)\n",
    "\n",
    "    best_model = rf_random.best_estimator_\n",
    "    predictions_best = best_model.predict(test_x)\n",
    "\n",
    "    print(\"Base model accuracy: {}\".format(sum(predictions_base==test_y)/len(test_y))) \n",
    "    print(\"With hyperparameter tuning: {}\".format(sum(predictions_best==test_y)/len(test_y)))\n",
    "    print(\"Selected hyperparameters: \\n\")\n",
    "    print(rf_random.best_params_)\n",
    "\n",
    "hyperparam_tuning(fs_chi(df_grade,6))"
   ]
  },
  {
   "cell_type": "code",
   "execution_count": 22,
   "metadata": {
    "scrolled": true
   },
   "outputs": [
    {
     "name": "stdout",
     "output_type": "stream",
     "text": [
      "\n",
      "Overall accuracy: 0.72\n",
      "\n"
     ]
    }
   ],
   "source": [
    "# model 2 works a lot better with fewer trees and lower depth\n",
    "best_model =  RandomForestClassifier(n_estimators= 1100, min_samples_split= 5, min_samples_leaf=1, \n",
    "                                     max_features='auto', max_depth=4, bootstrap = True)\n",
    "\n",
    "RF(df_no_grade_fs, model = best_model, stats=False)"
   ]
  },
  {
   "cell_type": "markdown",
   "metadata": {},
   "source": [
    "Hyperparameter tuning gave a good improvement in accuracy for both models: \n",
    "* **up from 82 to 84-86%** in model 1\n",
    "* **up from 60 to 68-72%** in model 2"
   ]
  },
  {
   "cell_type": "markdown",
   "metadata": {},
   "source": [
    "## Aside: correlations"
   ]
  },
  {
   "cell_type": "code",
   "execution_count": 23,
   "metadata": {},
   "outputs": [
    {
     "ename": "NameError",
     "evalue": "name 'sns' is not defined",
     "output_type": "error",
     "traceback": [
      "\u001b[0;31m---------------------------------------------------------------------------\u001b[0m",
      "\u001b[0;31mNameError\u001b[0m                                 Traceback (most recent call last)",
      "\u001b[0;32m<ipython-input-23-accddd278c08>\u001b[0m in \u001b[0;36m<module>\u001b[0;34m\u001b[0m\n\u001b[1;32m     10\u001b[0m     \u001b[0mplt\u001b[0m\u001b[0;34m.\u001b[0m\u001b[0mshow\u001b[0m\u001b[0;34m(\u001b[0m\u001b[0;34m)\u001b[0m\u001b[0;34m;\u001b[0m\u001b[0;34m\u001b[0m\u001b[0;34m\u001b[0m\u001b[0m\n\u001b[1;32m     11\u001b[0m \u001b[0;34m\u001b[0m\u001b[0m\n\u001b[0;32m---> 12\u001b[0;31m \u001b[0mcorrelation_heatmap\u001b[0m\u001b[0;34m(\u001b[0m\u001b[0mdf_grade\u001b[0m\u001b[0;34m.\u001b[0m\u001b[0mdrop\u001b[0m\u001b[0;34m(\u001b[0m\u001b[0;34m\"G3_discrete\"\u001b[0m\u001b[0;34m,\u001b[0m\u001b[0maxis\u001b[0m\u001b[0;34m=\u001b[0m\u001b[0;36m1\u001b[0m\u001b[0;34m)\u001b[0m\u001b[0;34m)\u001b[0m\u001b[0;34m\u001b[0m\u001b[0;34m\u001b[0m\u001b[0m\n\u001b[0m",
      "\u001b[0;32m<ipython-input-23-accddd278c08>\u001b[0m in \u001b[0;36mcorrelation_heatmap\u001b[0;34m(df)\u001b[0m\n\u001b[1;32m      6\u001b[0m     \u001b[0mfig\u001b[0m\u001b[0;34m,\u001b[0m \u001b[0max\u001b[0m \u001b[0;34m=\u001b[0m \u001b[0mplt\u001b[0m\u001b[0;34m.\u001b[0m\u001b[0msubplots\u001b[0m\u001b[0;34m(\u001b[0m\u001b[0mfigsize\u001b[0m\u001b[0;34m=\u001b[0m\u001b[0;34m(\u001b[0m\u001b[0;36m20\u001b[0m\u001b[0;34m,\u001b[0m\u001b[0;36m20\u001b[0m\u001b[0;34m)\u001b[0m\u001b[0;34m)\u001b[0m\u001b[0;34m\u001b[0m\u001b[0;34m\u001b[0m\u001b[0m\n\u001b[1;32m      7\u001b[0m     \u001b[0;31m# visualise the coefficients as a heatmap\u001b[0m\u001b[0;34m\u001b[0m\u001b[0;34m\u001b[0m\u001b[0;34m\u001b[0m\u001b[0m\n\u001b[0;32m----> 8\u001b[0;31m     sns.heatmap(correlation, vmax=1.0, center=0, fmt='.2f',\n\u001b[0m\u001b[1;32m      9\u001b[0m                 square=True, linewidths=.5, annot=True, cbar_kws={\"shrink\": .70},  annot_kws={\"size\": 10})\n\u001b[1;32m     10\u001b[0m     \u001b[0mplt\u001b[0m\u001b[0;34m.\u001b[0m\u001b[0mshow\u001b[0m\u001b[0;34m(\u001b[0m\u001b[0;34m)\u001b[0m\u001b[0;34m;\u001b[0m\u001b[0;34m\u001b[0m\u001b[0;34m\u001b[0m\u001b[0m\n",
      "\u001b[0;31mNameError\u001b[0m: name 'sns' is not defined"
     ]
    },
    {
     "data": {
      "image/png": "[encoded data removed]",
      "text/plain": [
       "<Figure size 1440x1440 with 1 Axes>"
      ]
     },
     "metadata": {},
     "output_type": "display_data"
    }
   ],
   "source": [
    "# Let's compute pairwise correlation cofefficient of all features and the variable of interest\n",
    "\n",
    "def correlation_heatmap(df):\n",
    "    # compute pairwise correlation coefficients\n",
    "    correlation = df.corr()\n",
    "    fig, ax = plt.subplots(figsize=(20,20))\n",
    "    # visualise the coefficients as a heatmap\n",
    "    sns.heatmap(correlation, vmax=1.0, center=0, fmt='.2f',\n",
    "                square=True, linewidths=.5, annot=True, cbar_kws={\"shrink\": .70},  annot_kws={\"size\": 10})\n",
    "    plt.show();\n",
    "    \n",
    "correlation_heatmap(df_grade.drop(\"G3_discrete\",axis=1))"
   ]
  },
  {
   "cell_type": "markdown",
   "metadata": {},
   "source": [
    "Wow! \n",
    "\n",
    "The bluer or redder the square, the stronger the correlation (positive or negative).\n",
    "\n",
    "Looking at the correlation with the final grade:\n",
    "* Parents' education, weekly study time, plans to take up higher education and G1 are some of the features that had a strong positive correlation with the final year grade. Those who attended nursery school also had a tendency to perform better.\n",
    "* Number of past class failures, alcohol consumption and school had negative correlation with the grade. \n",
    "\n",
    "**Some other interesting features:**\n",
    "* Men drank more than women and spend less time a week on study\n",
    "* Drinkers and those with many class failures were less likely to want to take up higher education\n",
    "* Mother's education had strong positive correlation with wanting to take up higher education"
   ]
  }
 ],
 "metadata": {
  "kernelspec": {
   "display_name": "Python 3.6 - AzureML",
   "language": "python",
   "name": "python3-azureml"
  },
  "language_info": {
   "codemirror_mode": {
    "name": "ipython",
    "version": 3
   },
   "file_extension": ".py",
   "mimetype": "text/x-python",
   "name": "python",
   "nbconvert_exporter": "python",
   "pygments_lexer": "ipython3",
   "version": "3.6.9"
  }
 },
 "nbformat": 4,
 "nbformat_minor": 2
}
