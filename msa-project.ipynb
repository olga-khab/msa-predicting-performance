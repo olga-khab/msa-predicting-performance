{
 "cells": [
  {
   "cell_type": "markdown",
   "metadata": {},
   "source": [
    "# Education ..."
   ]
  },
  {
   "cell_type": "markdown",
   "metadata": {},
   "source": [
    "Project descriptions"
   ]
  },
  {
   "cell_type": "markdown",
   "metadata": {},
   "source": [
    "## Step 1: Loading and exploring the dataset"
   ]
  },
  {
   "cell_type": "code",
   "execution_count": 540,
   "metadata": {
    "scrolled": true
   },
   "outputs": [],
   "source": [
    "import pandas as pd\n",
    "from sklearn.preprocessing import OneHotEncoder\n",
    "import numpy as np\n",
    "# read in the mathematics dataset\n",
    "port_df = pd.read_csv(\"student-por.csv\", sep=\";\")\n"
   ]
  },
  {
   "cell_type": "markdown",
   "metadata": {},
   "source": [
    "## Step 2: Pre-processing"
   ]
  },
  {
   "cell_type": "code",
   "execution_count": 2,
   "metadata": {},
   "outputs": [
    {
     "name": "stdout",
     "output_type": "stream",
     "text": [
      "False\n"
     ]
    }
   ],
   "source": [
    "# Check for missing values\n",
    "print(port_df.isnull().values.any())"
   ]
  },
  {
   "cell_type": "markdown",
   "metadata": {},
   "source": [
    "G3 (final year grade) was calculated using G1 and G2 (1st and 2nd period grades). We will use G3 as the responce variable and later on as the class variable by converitng it to a discrete scale. Since G3 is correlated with G1 and G2, the period grade variables will not be used as predictors in this analysis.\n",
    "\n",
    "About categorical/numeric..."
   ]
  },
  {
   "cell_type": "markdown",
   "metadata": {},
   "source": []
  },
  {
   "cell_type": "code",
   "execution_count": 584,
   "metadata": {},
   "outputs": [],
   "source": [
    "# Remove G1 and G2 \n",
    "df = port_df.drop(['G1', 'G2'], axis = 1)\n",
    "#df = port_df\n",
    "\n",
    "#df.info()\n",
    "#<-------------------- Convert grade to a discrete scale ---------------------->#\n",
    "# Conversion intervals based on Portugal's grade classification system\n",
    "\n",
    "'''\n",
    "conditions = [\n",
    "    (df['G3'] >= 0) & (df['G3'] < 7),\n",
    "    (df['G3'] >= 7) & (df['G3'] < 10),\n",
    "    (df['G3'] >= 10) & (df['G3'] < 14),\n",
    "    (df['G3'] >= 14) & (df['G3'] < 16),\n",
    "    (df['G3'] >= 16) & (df['G3'] < 18),\n",
    "    (df['G3'] >= 18) & (df['G3'] <= 20)\n",
    "]\n",
    "choices = ['very poor', 'poor', 'sufficient', 'good', 'very good', 'excellent']\n",
    "'''\n",
    "\n",
    "# a less fragmented classification with groups lumped together\n",
    "\n",
    "conditions = [\n",
    "    (df['G3'] >= 0) & (df['G3'] < 10),\n",
    "    (df['G3'] >= 10) & (df['G3'] < 16),\n",
    "    (df['G3'] >= 16) & (df['G3'] <= 20)\n",
    "]\n",
    "\n",
    "choices = ['very poor to poor', 'sufficient to good', 'very good to excellent']\n",
    "\n",
    "\n",
    "# corresponding grade classifications\n",
    "\n",
    "df['G3_discrete'] = np.select(conditions, choices)\n",
    "\n",
    "conditions_binary = [\n",
    "    (df['G3'] >= 0) & (df['G3'] < 10),\n",
    "    (df['G3'] >= 10) & (df['G3'] <= 20)\n",
    "]\n",
    "\n",
    "choices_binary = ['fail', 'pass']\n",
    "#df['G3_binary'] = np.select(conditions_binary, choices_binary)\n",
    "\n",
    "\n",
    "# No longer need numeric grade column\n",
    "#df = df.drop('G3', axis=1)\n",
    "\n",
    "#<-------------------- Treat ordinal attributes as categorical, not numeric ---------------------->#\n",
    "\n",
    "# Get column names\n",
    "attributes = list(df)\n",
    "# Exclude the attributes that should be treated as numeric\n",
    "attributes = [a for a in attributes if a not in ('age', 'absences', 'G3', 'G1', 'G2')]\n",
    "for attribute in attributes:\n",
    "    df[attribute] = df[attribute].astype('category',copy=False)\n",
    "\n",
    "from copy import deepcopy\n",
    "processed_df = deepcopy(df)\n",
    "\n",
    "#<-------------------- Change labels to numeric values ------------------------------------------->#\n",
    "\n",
    "# Some categorical variables are already encoded with numbers (e.g. studytime 0-4), we need to encode the rest\n",
    "# df.info()\n",
    "#attributes = list(df)\n",
    "#labels = [a for a in attributes if a not in ('age', 'absences', 'G3')]\n",
    "labels = df.select_dtypes(include=['category'])\n",
    "\n",
    "# object-type attributes are strings - we need to recode these\n",
    "#labels = df.select_dtypes(include = \"object\").columns\n",
    "from sklearn.preprocessing import LabelEncoder\n",
    "le = LabelEncoder()\n",
    "for l in labels:\n",
    "    df[l] = le.fit_transform(df[l].astype(str))\n",
    "#print(df.head())\n",
    "\n",
    "\n"
   ]
  },
  {
   "cell_type": "code",
   "execution_count": 542,
   "metadata": {},
   "outputs": [],
   "source": [
    "\n",
    "#<-------------------- Treat ordinal attributes as categorical, not numeric ---------------------->#\n",
    "\n",
    "# Get column names\n",
    "def category_converter(df):\n",
    "    attributes = list(df)\n",
    "    # Exclude the attributes that should be treated as numeric\n",
    "    attributes = [a for a in attributes if a not in ('age', 'absences', 'G3')]\n",
    "    for attribute in attributes:\n",
    "        df[attribute] = df[attribute].astype('category',copy=False)\n",
    "    return df\n",
    "\n",
    "\n",
    "#<-------------------- Change labels to numeric values ------------------------------------------->#\n",
    "\n",
    "# Some categorical variables are already encoded with numbers (e.g. studytime 0-4), we need to encode the rest\n",
    "# df.info()\n",
    "#attributes = list(df)\n",
    "#labels = [a for a in attributes if a not in ('age', 'absences', 'G3')]\n",
    "\n",
    "def label_encoder(df):\n",
    "    labels = df.select_dtypes(include=['category'])\n",
    "\n",
    "    # object-type attributes are strings - we need to recode these\n",
    "    #labels = df.select_dtypes(include = \"object\").columns\n",
    "    from sklearn.preprocessing import LabelEncoder\n",
    "    le = LabelEncoder()\n",
    "    for l in labels:\n",
    "        df[l] = le.fit_transform(df[l].astype(str))\n",
    "    return df\n",
    "    #print(df.head())\n",
    "    \n",
    "#<-------------------- One hot encoder ------------------------------------------->#\n",
    "\n",
    "\n",
    "def one_hot_encoder(df):\n",
    "    labels = df.select_dtypes(include=['category'])\n",
    "\n",
    "    # object-type attributes are strings - we need to recode these\n",
    "    #labels = df.select_dtypes(include = \"object\").columns\n",
    "    from sklearn.preprocessing import LabelEncoder\n",
    "    le = LabelEncoder()\n",
    "    for l in labels:\n",
    "        df[l] = le.fit_transform(df[l].astype(str))\n",
    "    return df\n",
    "    #print(df.head())\n"
   ]
  },
  {
   "cell_type": "code",
   "execution_count": 585,
   "metadata": {},
   "outputs": [
    {
     "data": {
      "text/plain": [
       "<matplotlib.axes._subplots.AxesSubplot at 0x7fa90075eef0>"
      ]
     },
     "execution_count": 585,
     "metadata": {},
     "output_type": "execute_result"
    },
    {
     "data": {
      "image/png": "[encoded data removed]",
      "text/plain": [
       "<Figure size 432x288 with 1 Axes>"
      ]
     },
     "metadata": {},
     "output_type": "display_data"
    }
   ],
   "source": [
    "# check if G3 values make sense (are between 0 and 20)\n",
    "import seaborn as sn\n",
    "sn.set(color_codes=True)\n",
    "sn.distplot(df['G3'], kde=False)\n",
    "\n",
    "# As expected, the grade distribution is approximately bell-curved. \n",
    "# The class \"sufficient to good\" clearly dominates the dataset\n",
    "\n",
    "# Need to use under-sampling\n",
    "\n"
   ]
  },
  {
   "cell_type": "code",
   "execution_count": 537,
   "metadata": {},
   "outputs": [
    {
     "name": "stdout",
     "output_type": "stream",
     "text": [
      "157\n"
     ]
    }
   ],
   "source": []
  },
  {
   "cell_type": "code",
   "execution_count": 586,
   "metadata": {},
   "outputs": [],
   "source": [
    "from sklearn.model_selection import train_test_split\n",
    "from sklearn.feature_selection import SelectKBest, chi2\n",
    "\n",
    "class_1 = df[df['G3_discrete'] == 1 ] \n",
    "class_0 = df[df['G3_discrete'] == 0 ].sample(len(class_1), random_state = 0)\n",
    "class_2 = df[df['G3_discrete'] == 2 ].sample(len(class_1), random_state = 0) \n",
    "frames = [class_1, class_2, class_0]\n",
    "balanced_sample = pd.concat(frames)\n",
    "\n",
    "#<-------------------- Correlation-Based Feature Selection -------------------------------------->\n",
    "X_cfs = balanced_sample.drop(['G3_discrete', 'G3'], axis=1)\n",
    "y = balanced_sample['G3_discrete']\n",
    "\n",
    "from skfeature.function.statistical_based import CFS\n",
    "idx = CFS.cfs(X_cfs.values, y)\n",
    "#df_cfs = balanced_sample.columns[idx]\n",
    "df_cfs = balanced_sample.iloc[:, idx]\n",
    "\n",
    "#<-------------------- Feature Selection (Chi-squared) -------------------------------------->\n",
    "X = balanced_sample.drop(['G3_discrete','G3'], axis=1)\n",
    "\n",
    "# for random forest\n",
    "#X = balanced_sample.drop(['G3_discrete','G3_binary', 'G3', 'reason','school','Mjob','Fjob'], axis=1)\n",
    "\n",
    "y = balanced_sample['G3_discrete']\n",
    "# 14 for NB\n",
    "selector = SelectKBest(chi2, k=14)\n",
    "feature_data = selector.fit_transform(X, y)\n",
    "mask=selector.get_support()\n",
    "feature_names = X.columns[mask]\n",
    "df_selected = pd.DataFrame(feature_data, columns=feature_names)\n",
    "\n",
    "# full dataset with feature selection\n",
    "df_selected_full = pd.DataFrame(feature_data, columns=feature_names)\n",
    "\n",
    "# Now split the data into training and testing (80/20)\n",
    "train_x, test_x, train_y, test_y = train_test_split(df_selected, y, stratify=y, test_size=0.2, random_state=42)\n",
    "# no feature selection\n",
    "# train_x, test_x, train_y, test_y = train_test_split(df.drop(['G3_discrete','G3_binary', 'G3', 'school'], axis=1), df['G3_discrete'],stratify=df['G3_discrete'], test_size=0.2, random_state=42)\n",
    "#g_class = GaussianNB()\n",
    "\n",
    "#Train the model using the training sets\n",
    "#g_class.fit(train_x, train_y)\n",
    "\n",
    "#Predict the response for test dataset\n",
    "#pred_y = g_class.predict(test_x)\n",
    "\n",
    "#cm=metrics.confusion_matrix(test_y,pred_y)\n",
    "#df_cm = pd.DataFrame(cm, range(6), range(6))\n",
    "\n",
    "#sn.set(font_scale=1.4) # for label size\n",
    "#sn.heatmap(df_cm, annot=True, annot_kws={\"size\": 16}) # font size\n",
    "\n",
    "#plt.show()\n",
    "\n",
    "#np.count_nonzero(pred_y!=test_y)\n",
    "\n",
    "#sum(train_y==2)"
   ]
  },
  {
   "cell_type": "code",
   "execution_count": 575,
   "metadata": {},
   "outputs": [
    {
     "data": {
      "text/html": [
       "<div>\n",
       "<style scoped>\n",
       "    .dataframe tbody tr th:only-of-type {\n",
       "        vertical-align: middle;\n",
       "    }\n",
       "\n",
       "    .dataframe tbody tr th {\n",
       "        vertical-align: top;\n",
       "    }\n",
       "\n",
       "    .dataframe thead th {\n",
       "        text-align: right;\n",
       "    }\n",
       "</style>\n",
       "<table border=\"1\" class=\"dataframe\">\n",
       "  <thead>\n",
       "    <tr style=\"text-align: right;\">\n",
       "      <th></th>\n",
       "      <th>school</th>\n",
       "      <th>Medu</th>\n",
       "      <th>Fedu</th>\n",
       "      <th>Mjob</th>\n",
       "      <th>reason</th>\n",
       "      <th>traveltime</th>\n",
       "      <th>studytime</th>\n",
       "      <th>failures</th>\n",
       "      <th>schoolsup</th>\n",
       "      <th>higher</th>\n",
       "      <th>freetime</th>\n",
       "      <th>Dalc</th>\n",
       "      <th>Walc</th>\n",
       "      <th>absences</th>\n",
       "    </tr>\n",
       "  </thead>\n",
       "  <tbody>\n",
       "    <tr>\n",
       "      <th>0</th>\n",
       "      <td>0</td>\n",
       "      <td>3</td>\n",
       "      <td>2</td>\n",
       "      <td>3</td>\n",
       "      <td>1</td>\n",
       "      <td>0</td>\n",
       "      <td>1</td>\n",
       "      <td>0</td>\n",
       "      <td>0</td>\n",
       "      <td>1</td>\n",
       "      <td>1</td>\n",
       "      <td>0</td>\n",
       "      <td>0</td>\n",
       "      <td>0</td>\n",
       "    </tr>\n",
       "    <tr>\n",
       "      <th>1</th>\n",
       "      <td>0</td>\n",
       "      <td>4</td>\n",
       "      <td>4</td>\n",
       "      <td>1</td>\n",
       "      <td>1</td>\n",
       "      <td>0</td>\n",
       "      <td>0</td>\n",
       "      <td>0</td>\n",
       "      <td>0</td>\n",
       "      <td>1</td>\n",
       "      <td>3</td>\n",
       "      <td>0</td>\n",
       "      <td>1</td>\n",
       "      <td>6</td>\n",
       "    </tr>\n",
       "    <tr>\n",
       "      <th>2</th>\n",
       "      <td>0</td>\n",
       "      <td>4</td>\n",
       "      <td>3</td>\n",
       "      <td>1</td>\n",
       "      <td>3</td>\n",
       "      <td>0</td>\n",
       "      <td>3</td>\n",
       "      <td>0</td>\n",
       "      <td>0</td>\n",
       "      <td>1</td>\n",
       "      <td>1</td>\n",
       "      <td>0</td>\n",
       "      <td>0</td>\n",
       "      <td>2</td>\n",
       "    </tr>\n",
       "    <tr>\n",
       "      <th>3</th>\n",
       "      <td>0</td>\n",
       "      <td>4</td>\n",
       "      <td>2</td>\n",
       "      <td>1</td>\n",
       "      <td>2</td>\n",
       "      <td>0</td>\n",
       "      <td>1</td>\n",
       "      <td>0</td>\n",
       "      <td>0</td>\n",
       "      <td>1</td>\n",
       "      <td>2</td>\n",
       "      <td>0</td>\n",
       "      <td>0</td>\n",
       "      <td>0</td>\n",
       "    </tr>\n",
       "    <tr>\n",
       "      <th>4</th>\n",
       "      <td>0</td>\n",
       "      <td>4</td>\n",
       "      <td>4</td>\n",
       "      <td>4</td>\n",
       "      <td>3</td>\n",
       "      <td>0</td>\n",
       "      <td>1</td>\n",
       "      <td>0</td>\n",
       "      <td>0</td>\n",
       "      <td>1</td>\n",
       "      <td>1</td>\n",
       "      <td>0</td>\n",
       "      <td>0</td>\n",
       "      <td>8</td>\n",
       "    </tr>\n",
       "    <tr>\n",
       "      <th>...</th>\n",
       "      <td>...</td>\n",
       "      <td>...</td>\n",
       "      <td>...</td>\n",
       "      <td>...</td>\n",
       "      <td>...</td>\n",
       "      <td>...</td>\n",
       "      <td>...</td>\n",
       "      <td>...</td>\n",
       "      <td>...</td>\n",
       "      <td>...</td>\n",
       "      <td>...</td>\n",
       "      <td>...</td>\n",
       "      <td>...</td>\n",
       "      <td>...</td>\n",
       "    </tr>\n",
       "    <tr>\n",
       "      <th>241</th>\n",
       "      <td>0</td>\n",
       "      <td>3</td>\n",
       "      <td>3</td>\n",
       "      <td>2</td>\n",
       "      <td>3</td>\n",
       "      <td>1</td>\n",
       "      <td>1</td>\n",
       "      <td>0</td>\n",
       "      <td>0</td>\n",
       "      <td>1</td>\n",
       "      <td>3</td>\n",
       "      <td>0</td>\n",
       "      <td>0</td>\n",
       "      <td>0</td>\n",
       "    </tr>\n",
       "    <tr>\n",
       "      <th>242</th>\n",
       "      <td>0</td>\n",
       "      <td>4</td>\n",
       "      <td>3</td>\n",
       "      <td>1</td>\n",
       "      <td>1</td>\n",
       "      <td>0</td>\n",
       "      <td>1</td>\n",
       "      <td>0</td>\n",
       "      <td>0</td>\n",
       "      <td>1</td>\n",
       "      <td>2</td>\n",
       "      <td>0</td>\n",
       "      <td>4</td>\n",
       "      <td>2</td>\n",
       "    </tr>\n",
       "    <tr>\n",
       "      <th>243</th>\n",
       "      <td>0</td>\n",
       "      <td>3</td>\n",
       "      <td>3</td>\n",
       "      <td>3</td>\n",
       "      <td>3</td>\n",
       "      <td>1</td>\n",
       "      <td>2</td>\n",
       "      <td>0</td>\n",
       "      <td>0</td>\n",
       "      <td>1</td>\n",
       "      <td>1</td>\n",
       "      <td>1</td>\n",
       "      <td>2</td>\n",
       "      <td>2</td>\n",
       "    </tr>\n",
       "    <tr>\n",
       "      <th>244</th>\n",
       "      <td>1</td>\n",
       "      <td>1</td>\n",
       "      <td>0</td>\n",
       "      <td>0</td>\n",
       "      <td>0</td>\n",
       "      <td>2</td>\n",
       "      <td>0</td>\n",
       "      <td>1</td>\n",
       "      <td>1</td>\n",
       "      <td>1</td>\n",
       "      <td>2</td>\n",
       "      <td>0</td>\n",
       "      <td>0</td>\n",
       "      <td>0</td>\n",
       "    </tr>\n",
       "    <tr>\n",
       "      <th>245</th>\n",
       "      <td>0</td>\n",
       "      <td>3</td>\n",
       "      <td>3</td>\n",
       "      <td>3</td>\n",
       "      <td>1</td>\n",
       "      <td>0</td>\n",
       "      <td>3</td>\n",
       "      <td>0</td>\n",
       "      <td>0</td>\n",
       "      <td>1</td>\n",
       "      <td>2</td>\n",
       "      <td>0</td>\n",
       "      <td>0</td>\n",
       "      <td>4</td>\n",
       "    </tr>\n",
       "  </tbody>\n",
       "</table>\n",
       "<p>246 rows × 14 columns</p>\n",
       "</div>"
      ],
      "text/plain": [
       "     school  Medu  Fedu  Mjob  reason  traveltime  studytime  failures  \\\n",
       "0         0     3     2     3       1           0          1         0   \n",
       "1         0     4     4     1       1           0          0         0   \n",
       "2         0     4     3     1       3           0          3         0   \n",
       "3         0     4     2     1       2           0          1         0   \n",
       "4         0     4     4     4       3           0          1         0   \n",
       "..      ...   ...   ...   ...     ...         ...        ...       ...   \n",
       "241       0     3     3     2       3           1          1         0   \n",
       "242       0     4     3     1       1           0          1         0   \n",
       "243       0     3     3     3       3           1          2         0   \n",
       "244       1     1     0     0       0           2          0         1   \n",
       "245       0     3     3     3       1           0          3         0   \n",
       "\n",
       "     schoolsup  higher  freetime  Dalc  Walc  absences  \n",
       "0            0       1         1     0     0         0  \n",
       "1            0       1         3     0     1         6  \n",
       "2            0       1         1     0     0         2  \n",
       "3            0       1         2     0     0         0  \n",
       "4            0       1         1     0     0         8  \n",
       "..         ...     ...       ...   ...   ...       ...  \n",
       "241          0       1         3     0     0         0  \n",
       "242          0       1         2     0     4         2  \n",
       "243          0       1         1     1     2         2  \n",
       "244          1       1         2     0     0         0  \n",
       "245          0       1         2     0     0         4  \n",
       "\n",
       "[246 rows x 14 columns]"
      ]
     },
     "execution_count": 575,
     "metadata": {},
     "output_type": "execute_result"
    }
   ],
   "source": [
    "df_selected"
   ]
  },
  {
   "cell_type": "code",
   "execution_count": 587,
   "metadata": {},
   "outputs": [
    {
     "name": "stdout",
     "output_type": "stream",
     "text": [
      "[2 5 5 5 4 4 4 4 2 5 5 5]\n",
      "              precision    recall  f1-score   support\n",
      "\n",
      "           0       0.71      0.75      0.73        16\n",
      "           1       0.93      0.82      0.87        17\n",
      "           2       0.78      0.82      0.80        17\n",
      "\n",
      "   micro avg       0.80      0.80      0.80        50\n",
      "   macro avg       0.81      0.80      0.80        50\n",
      "weighted avg       0.81      0.80      0.80        50\n",
      "\n",
      "0.8\n"
     ]
    },
    {
     "data": {
      "image/png": "[encoded data removed]",
      "text/plain": [
       "<Figure size 432x288 with 2 Axes>"
      ]
     },
     "metadata": {},
     "output_type": "display_data"
    }
   ],
   "source": [
    "# already installed the package with pip install mixed-naive-bayes\n",
    "from sklearn.feature_selection import SelectKBest, chi2\n",
    "from sklearn.metrics import classification_report\n",
    "from sklearn.metrics import confusion_matrix\n",
    "from mixed_naive_bayes import MixedNB\n",
    "\n",
    "indices=[]\n",
    "attributes = list(train_x)\n",
    "attributes = [a for a in attributes if a not in ('age', 'absences', 'G1', 'G2')]\n",
    "#print(attributes)\n",
    "#print(train_x)\n",
    "for attr in attributes:\n",
    "    indices.append(train_x.columns.get_loc(attr))\n",
    "\n",
    "clf = MixedNB(categorical_features=indices)\n",
    "\n",
    "clf.fit(train_x,train_y)\n",
    "pred = clf.predict(test_x)\n",
    "\n",
    "cm=confusion_matrix(test_y,pred)\n",
    "df_cm = pd.DataFrame(cm, range(3), range(3))\n",
    "\n",
    "sn.set(font_scale=1.4) # for label size\n",
    "sn.heatmap(df_cm, annot=True, annot_kws={\"size\": 16}, cmap=\"summer\") # font size\n",
    "\n",
    "\n",
    "# calculate accuracy of the model\n",
    "sum(pred==test_y)/len(test_y)\n",
    "\n",
    "#best\n",
    "#l=['class 0', 'class 1', 'class 2']\n",
    "print(classification_report(test_y, pred))\n",
    "\n",
    "print(sum(pred==test_y)/len(test_y))\n"
   ]
  },
  {
   "cell_type": "code",
   "execution_count": 825,
   "metadata": {},
   "outputs": [
    {
     "name": "stdout",
     "output_type": "stream",
     "text": [
      "<class 'pandas.core.frame.DataFrame'>\n",
      "RangeIndex: 246 entries, 0 to 245\n",
      "Data columns (total 14 columns):\n",
      "school        246 non-null int64\n",
      "Medu          246 non-null int64\n",
      "Fedu          246 non-null int64\n",
      "Mjob          246 non-null int64\n",
      "reason        246 non-null int64\n",
      "traveltime    246 non-null int64\n",
      "studytime     246 non-null int64\n",
      "failures      246 non-null int64\n",
      "schoolsup     246 non-null int64\n",
      "higher        246 non-null int64\n",
      "freetime      246 non-null int64\n",
      "Dalc          246 non-null int64\n",
      "Walc          246 non-null int64\n",
      "absences      246 non-null int64\n",
      "dtypes: int64(14)\n",
      "memory usage: 27.0 KB\n",
      "None\n"
     ]
    }
   ],
   "source": [
    "# selected features\n",
    "print(df_selected.info())"
   ]
  },
  {
   "cell_type": "code",
   "execution_count": 848,
   "metadata": {},
   "outputs": [
    {
     "data": {
      "text/plain": [
       "array([14, 20,  0,  7, 25,  6, 10, 23, 13])"
      ]
     },
     "execution_count": 848,
     "metadata": {},
     "output_type": "execute_result"
    }
   ],
   "source": [
    "from skfeature.function.statistical_based import CFS\n",
    "idx = CFS.cfs(X.values, y)\n"
   ]
  },
  {
   "cell_type": "code",
   "execution_count": 833,
   "metadata": {},
   "outputs": [
    {
     "data": {
      "text/plain": [
       "'\\ntest_joint = pd.DataFrame(test_x, test_y, pred)\\nfpr = dict()\\ntpr = dict()\\nroc_auc = dict()\\nfor i in range(3):\\n    fpr[i], tpr[i], _ = roc_curve(test_y[test_y==i], pred[test_y==i])\\n    roc_auc[i] = auc(fpr[i], tpr[i])\\n'"
      ]
     },
     "execution_count": 833,
     "metadata": {},
     "output_type": "execute_result"
    }
   ],
   "source": [
    "# Plot ROC curve\n",
    "from sklearn.metrics import roc_curve, auc\n",
    "'''\n",
    "test_joint = pd.DataFrame(test_x, test_y, pred)\n",
    "fpr = dict()\n",
    "tpr = dict()\n",
    "roc_auc = dict()\n",
    "for i in range(3):\n",
    "    fpr[i], tpr[i], _ = roc_curve(test_y[test_y==i], pred[test_y==i])\n",
    "    roc_auc[i] = auc(fpr[i], tpr[i])\n",
    "'''\n",
    "\n"
   ]
  },
  {
   "cell_type": "code",
   "execution_count": 23,
   "metadata": {},
   "outputs": [
    {
     "name": "stdout",
     "output_type": "stream",
     "text": [
      "<class 'pandas.core.frame.DataFrame'>\n",
      "Int64Index: 246 entries, 8 to 393\n",
      "Data columns (total 9 columns):\n",
      " #   Column     Non-Null Count  Dtype\n",
      "---  ------     --------------  -----\n",
      " 0   failures   246 non-null    int64\n",
      " 1   higher     246 non-null    int64\n",
      " 2   school     246 non-null    int64\n",
      " 3   Fedu       246 non-null    int64\n",
      " 4   goout      246 non-null    int64\n",
      " 5   Medu       246 non-null    int64\n",
      " 6   reason     246 non-null    int64\n",
      " 7   famrel     246 non-null    int64\n",
      " 8   studytime  246 non-null    int64\n",
      "dtypes: int64(9)\n",
      "memory usage: 19.2 KB\n",
      "None\n",
      "<class 'pandas.core.frame.DataFrame'>\n",
      "RangeIndex: 246 entries, 0 to 245\n",
      "Data columns (total 14 columns):\n",
      " #   Column      Non-Null Count  Dtype\n",
      "---  ------      --------------  -----\n",
      " 0   school      246 non-null    int64\n",
      " 1   Medu        246 non-null    int64\n",
      " 2   Fedu        246 non-null    int64\n",
      " 3   Mjob        246 non-null    int64\n",
      " 4   reason      246 non-null    int64\n",
      " 5   traveltime  246 non-null    int64\n",
      " 6   studytime   246 non-null    int64\n",
      " 7   failures    246 non-null    int64\n",
      " 8   schoolsup   246 non-null    int64\n",
      " 9   higher      246 non-null    int64\n",
      " 10  freetime    246 non-null    int64\n",
      " 11  Dalc        246 non-null    int64\n",
      " 12  Walc        246 non-null    int64\n",
      " 13  absences    246 non-null    int64\n",
      "dtypes: int64(14)\n",
      "memory usage: 27.0 KB\n",
      "None\n"
     ]
    },
    {
     "data": {
      "text/plain": [
       "<matplotlib.axes._subplots.AxesSubplot at 0x7fa916ce7358>"
      ]
     },
     "execution_count": 23,
     "metadata": {},
     "output_type": "execute_result"
    },
    {
     "data": {
      "image/png": "[encoded data removed]",
      "text/plain": [
       "<Figure size 432x288 with 1 Axes>"
      ]
     },
     "metadata": {},
     "output_type": "display_data"
    }
   ],
   "source": [
    "# Comments on NB assumptions\n",
    "#sn.distplot(df['age'], kde=False)\n",
    "print(df_cfs.info())\n",
    "print(df_selected.info())\n",
    "\n",
    "sn.distplot(df['absences'], kde=False)"
   ]
  },
  {
   "cell_type": "markdown",
   "metadata": {},
   "source": [
    "## Random forest"
   ]
  },
  {
   "cell_type": "code",
   "execution_count": 926,
   "metadata": {},
   "outputs": [
    {
     "name": "stdout",
     "output_type": "stream",
     "text": [
      "0.0\n"
     ]
    },
    {
     "data": {
      "text/plain": [
       "\"\\n# Import tools needed for visualization\\nfrom sklearn.tree import export_graphviz\\nimport pydot\\n# Pull out one tree from the forest\\ntree = rf.estimators_[5]\\n# \\nfrom sklearn.tree import export_graphviz\\n\\n# sudo apt install python-pydot python-pydot-ng graphviz\\nimport pydot\\n# Pull out one tree from the forest\\ntree = rf.estimators_[5]\\n# Export the image to a dot file\\nexport_graphviz(tree, out_file = 'tree.dot',  rounded = True, precision = 1)\\n# Use dot file to create a graph\\n(graph, ) = pydot.graph_from_dot_file('tree.dot')\\n# Write graph to a png file\\ngraph.write_png('tree.png')\\n\\nimport matplotlib.pyplot as plt\\nimport matplotlib.image as mpimg\\n\\nimg = mpimg.imread('tree.png')\\nplt.imshow(img)\\nplt.show()\\n\""
      ]
     },
     "execution_count": 926,
     "metadata": {},
     "output_type": "execute_result"
    }
   ],
   "source": [
    "#df['col_name'] = df['col_name'].astype('category')\n",
    "\n",
    "#print(sum(predictions==test_y)/len(test_y))\n",
    "# Calculate the absolute errors\n",
    "#errors = abs(predictions - test_y)\n",
    "# Print out the mean absolute error (mae)\n",
    "#print('Mean Absolute Error:', round(np.mean(errors), 2))\n",
    "#predictions\n",
    "#for p in predictions:\n",
    "#    p = np.round(p)\n",
    "    \n",
    "#predictions = [np.round(p) for p in predictions]\n",
    "print(sum(predictions==test_y)/len(test_y))\n",
    "#predictions\n",
    "'''\n",
    "# Import tools needed for visualization\n",
    "from sklearn.tree import export_graphviz\n",
    "import pydot\n",
    "# Pull out one tree from the forest\n",
    "tree = rf.estimators_[5]\n",
    "# \n",
    "from sklearn.tree import export_graphviz\n",
    "\n",
    "# sudo apt install python-pydot python-pydot-ng graphviz\n",
    "import pydot\n",
    "# Pull out one tree from the forest\n",
    "tree = rf.estimators_[5]\n",
    "# Export the image to a dot file\n",
    "export_graphviz(tree, out_file = 'tree.dot',  rounded = True, precision = 1)\n",
    "# Use dot file to create a graph\n",
    "(graph, ) = pydot.graph_from_dot_file('tree.dot')\n",
    "# Write graph to a png file\n",
    "graph.write_png('tree.png')\n",
    "\n",
    "import matplotlib.pyplot as plt\n",
    "import matplotlib.image as mpimg\n",
    "\n",
    "img = mpimg.imread('tree.png')\n",
    "plt.imshow(img)\n",
    "plt.show()\n",
    "'''"
   ]
  },
  {
   "cell_type": "code",
   "execution_count": 597,
   "metadata": {},
   "outputs": [
    {
     "data": {
      "image/png": "[encoded data removed]",
      "text/plain": [
       "<Figure size 432x288 with 2 Axes>"
      ]
     },
     "metadata": {},
     "output_type": "display_data"
    }
   ],
   "source": [
    "'''\n",
    "corr = df_selected.corr()\n",
    "ax = sn.heatmap(\n",
    "    corr, \n",
    "    vmin=-1, vmax=1, center=0,\n",
    "    cmap=sn.diverging_palette(20, 220, n=200),\n",
    "    square=True\n",
    ")\n",
    "ax.set_xticklabels(\n",
    "    ax.get_xticklabels(),\n",
    "    #rotation=45,\n",
    "    #horizontalalignment='right'\n",
    ")\n",
    "ax.set_yticklabels(\n",
    "    ax.get_yticklabels(),\n",
    "    #rotation=45,\n",
    "    horizontalalignment='right'\n",
    ");\n",
    "'''\n",
    "import pandas as pd\n",
    "import numpy as np\n",
    "import matplotlib.pyplot as plt\n",
    "import seaborn as sns\n",
    "\n",
    "\n",
    "\n",
    "def correlation_heatmap(train):\n",
    "    correlations = df_selected.corr()\n",
    "\n",
    "    fig, ax = plt.subplots(figsize=(10,10))\n",
    "    sns.heatmap(correlations, vmax=1.0, center=0, fmt='.2f',\n",
    "                square=True, linewidths=.5, annot=True, cbar_kws={\"shrink\": .70})\n",
    "    plt.show();\n",
    "    \n",
    "correlation_heatmap(train)"
   ]
  },
  {
   "cell_type": "code",
   "execution_count": 562,
   "metadata": {},
   "outputs": [
    {
     "name": "stderr",
     "output_type": "stream",
     "text": [
      "/anaconda/envs/azureml_py36/lib/python3.6/site-packages/sklearn/preprocessing/data.py:645: DataConversionWarning: Data with input dtype int64 were all converted to float64 by StandardScaler.\n",
      "  return self.partial_fit(X, y)\n",
      "/anaconda/envs/azureml_py36/lib/python3.6/site-packages/sklearn/base.py:464: DataConversionWarning: Data with input dtype int64 were all converted to float64 by StandardScaler.\n",
      "  return self.fit(X, **fit_params).transform(X)\n",
      "/anaconda/envs/azureml_py36/lib/python3.6/site-packages/ipykernel_launcher.py:53: DataConversionWarning: Data with input dtype int64 were all converted to float64 by StandardScaler.\n"
     ]
    }
   ],
   "source": [
    "# recode into binary\n",
    "\n",
    "### No feature selection\n",
    "#rf_df = balanced_sample.drop(['G3_discrete', 'G3_binary', 'G3'], axis=1)\n",
    "\n",
    "####### balanced with feature selection\n",
    "rf_df = df_selected\n",
    "y = balanced_sample['G3_discrete']\n",
    "### whole without feature selection\n",
    "#rf_df = df.drop(['G3_discrete','G3'], axis=1)\n",
    "#y = df['G3_discrete']\n",
    "### balanced no fs\n",
    "#rf_df = balanced_sample.drop(['G3_discrete', 'G3'], axis=1)\n",
    "#y = balanced_sample['G3_discrete']\n",
    "\n",
    "#attributes = list(rf_df)\n",
    "#attributes = [a for a in attributes if a not in ('age', 'absences', 'G3_discrete')]\n",
    "#labels = rf_df.select_dtypes(include=['category'])\n",
    "#attributes\n",
    "#ohe = OneHotEncoder()\n",
    "#for l in labels:\n",
    "#    rf_df[l] = ohe.fit_transform(rf_df[l].astype(str))\n",
    "#rf_df \n",
    "#rf = RandomForestRegressor(n_estimators = 1000, random_state = 42)\n",
    "\n",
    "#rf_df = pd.get_dummies(rf_df, prefix=attributes, columns=attributes) \n",
    "#rf_df['G3_discrete'] = le.fit_transform(rf_df['G3_discrete'].astype(str))\n",
    "#rf_class= pd.factorize(rf_df['G3_discrete'])\n",
    "#print(rf_df)\n",
    "\n",
    "#X = rf_df.drop(['G3_discrete', 'G3_binary'], axis=1)\n",
    "#y = rf_df['G3_discrete']\n",
    "#X = rf_df.drop(['G3_discrete'], axis=1)\n",
    "#y = rf_df['G3_discrete']\n",
    "train_x, test_x, train_y, test_y = train_test_split(rf_df, y, test_size=0.2, stratify = y, random_state=42)\n",
    "#rf.fit(train_x, train_y);\n",
    "#predictions = rf.predict(test_x)\n",
    "#print(sum(predictions==test_y)/len(test_y))\n",
    "# Calculate the absolute errors\n",
    "#errors = abs(predictions - test_y)\n",
    "# Print out the mean absolute error (mae)\n",
    "#print('Mean Absolute Error:', round(np.mean(errors), 2))\n",
    "#predictions\n",
    "#for p in predictions:\n",
    "#    p = np.round(p)\n",
    "    \n",
    "#predictions = [np.round(p) for p in predictions]\n",
    "#\n",
    "from sklearn.preprocessing import StandardScaler\n",
    "\n",
    "scaler = StandardScaler()\n",
    "train_x = scaler.fit_transform(train_x)\n",
    "test_x = scaler.transform(test_x)\n"
   ]
  },
  {
   "cell_type": "code",
   "execution_count": 569,
   "metadata": {},
   "outputs": [
    {
     "data": {
      "text/plain": [
       "RandomForestClassifier(bootstrap=True, class_weight=None, criterion='gini',\n",
       "            max_depth=3, max_features='auto', max_leaf_nodes=None,\n",
       "            min_impurity_decrease=0.0, min_impurity_split=None,\n",
       "            min_samples_leaf=1, min_samples_split=4,\n",
       "            min_weight_fraction_leaf=0.0, n_estimators=1100, n_jobs=None,\n",
       "            oob_score=False, random_state=42, verbose=0, warm_start=False)"
      ]
     },
     "execution_count": 569,
     "metadata": {},
     "output_type": "execute_result"
    }
   ],
   "source": [
    "#from sklearn.preprocessing import StandardScaler\n",
    "from sklearn.ensemble import RandomForestClassifier\n",
    "\n",
    "# Using information gain (entropy) to evaluate how good a particular split is\n",
    "classifier = RandomForestClassifier(n_estimators = 1100, min_samples_leaf= 1,\n",
    " min_samples_split= 4, max_depth=3, random_state = 42)\n",
    "classifier.fit(train_x, train_y)"
   ]
  },
  {
   "cell_type": "code",
   "execution_count": 570,
   "metadata": {},
   "outputs": [
    {
     "name": "stdout",
     "output_type": "stream",
     "text": [
      "0.84\n"
     ]
    }
   ],
   "source": [
    "#predictions\n",
    "\n",
    "predictions = classifier.predict(test_x)\n",
    "\n",
    "print(sum(predictions==test_y)/len(test_y))\n",
    "\n"
   ]
  },
  {
   "cell_type": "code",
   "execution_count": 571,
   "metadata": {},
   "outputs": [
    {
     "name": "stdout",
     "output_type": "stream",
     "text": [
      "              precision    recall  f1-score   support\n",
      "\n",
      "           0       0.75      0.75      0.75        16\n",
      "           1       0.94      0.88      0.91        17\n",
      "           2       0.83      0.88      0.86        17\n",
      "\n",
      "   micro avg       0.84      0.84      0.84        50\n",
      "   macro avg       0.84      0.84      0.84        50\n",
      "weighted avg       0.84      0.84      0.84        50\n",
      "\n"
     ]
    },
    {
     "data": {
      "image/png": "[encoded data removed]",
      "text/plain": [
       "<Figure size 432x288 with 2 Axes>"
      ]
     },
     "metadata": {},
     "output_type": "display_data"
    }
   ],
   "source": [
    "cm=confusion_matrix(test_y,predictions)\n",
    "df_cm = pd.DataFrame(cm, range(3), range(3))\n",
    "\n",
    "sn.set(font_scale=1.4) # for label size\n",
    "sn.heatmap(df_cm, annot=True, annot_kws={\"size\": 16}, cmap=\"summer\") # font size\n",
    "\n",
    "print(classification_report(test_y, predictions))\n"
   ]
  },
  {
   "cell_type": "code",
   "execution_count": 249,
   "metadata": {},
   "outputs": [
    {
     "data": {
      "text/html": [
       "<div>\n",
       "<style scoped>\n",
       "    .dataframe tbody tr th:only-of-type {\n",
       "        vertical-align: middle;\n",
       "    }\n",
       "\n",
       "    .dataframe tbody tr th {\n",
       "        vertical-align: top;\n",
       "    }\n",
       "\n",
       "    .dataframe thead th {\n",
       "        text-align: right;\n",
       "    }\n",
       "</style>\n",
       "<table border=\"1\" class=\"dataframe\">\n",
       "  <thead>\n",
       "    <tr style=\"text-align: right;\">\n",
       "      <th></th>\n",
       "      <th>school</th>\n",
       "      <th>sex</th>\n",
       "      <th>address</th>\n",
       "      <th>Medu</th>\n",
       "      <th>Fedu</th>\n",
       "      <th>Mjob</th>\n",
       "      <th>reason</th>\n",
       "      <th>traveltime</th>\n",
       "      <th>studytime</th>\n",
       "      <th>failures</th>\n",
       "      <th>schoolsup</th>\n",
       "      <th>paid</th>\n",
       "      <th>higher</th>\n",
       "      <th>romantic</th>\n",
       "      <th>famrel</th>\n",
       "      <th>freetime</th>\n",
       "      <th>goout</th>\n",
       "      <th>Dalc</th>\n",
       "      <th>Walc</th>\n",
       "      <th>absences</th>\n",
       "    </tr>\n",
       "  </thead>\n",
       "  <tbody>\n",
       "    <tr>\n",
       "      <th>0</th>\n",
       "      <td>0</td>\n",
       "      <td>1</td>\n",
       "      <td>1</td>\n",
       "      <td>3</td>\n",
       "      <td>2</td>\n",
       "      <td>3</td>\n",
       "      <td>1</td>\n",
       "      <td>0</td>\n",
       "      <td>1</td>\n",
       "      <td>0</td>\n",
       "      <td>0</td>\n",
       "      <td>0</td>\n",
       "      <td>1</td>\n",
       "      <td>0</td>\n",
       "      <td>3</td>\n",
       "      <td>1</td>\n",
       "      <td>1</td>\n",
       "      <td>0</td>\n",
       "      <td>0</td>\n",
       "      <td>0</td>\n",
       "    </tr>\n",
       "    <tr>\n",
       "      <th>1</th>\n",
       "      <td>0</td>\n",
       "      <td>0</td>\n",
       "      <td>1</td>\n",
       "      <td>4</td>\n",
       "      <td>4</td>\n",
       "      <td>1</td>\n",
       "      <td>1</td>\n",
       "      <td>0</td>\n",
       "      <td>0</td>\n",
       "      <td>0</td>\n",
       "      <td>0</td>\n",
       "      <td>0</td>\n",
       "      <td>1</td>\n",
       "      <td>0</td>\n",
       "      <td>3</td>\n",
       "      <td>3</td>\n",
       "      <td>3</td>\n",
       "      <td>0</td>\n",
       "      <td>1</td>\n",
       "      <td>6</td>\n",
       "    </tr>\n",
       "    <tr>\n",
       "      <th>2</th>\n",
       "      <td>0</td>\n",
       "      <td>1</td>\n",
       "      <td>1</td>\n",
       "      <td>4</td>\n",
       "      <td>3</td>\n",
       "      <td>1</td>\n",
       "      <td>3</td>\n",
       "      <td>0</td>\n",
       "      <td>3</td>\n",
       "      <td>0</td>\n",
       "      <td>0</td>\n",
       "      <td>0</td>\n",
       "      <td>1</td>\n",
       "      <td>0</td>\n",
       "      <td>3</td>\n",
       "      <td>1</td>\n",
       "      <td>1</td>\n",
       "      <td>0</td>\n",
       "      <td>0</td>\n",
       "      <td>2</td>\n",
       "    </tr>\n",
       "    <tr>\n",
       "      <th>3</th>\n",
       "      <td>0</td>\n",
       "      <td>0</td>\n",
       "      <td>1</td>\n",
       "      <td>4</td>\n",
       "      <td>2</td>\n",
       "      <td>1</td>\n",
       "      <td>2</td>\n",
       "      <td>0</td>\n",
       "      <td>1</td>\n",
       "      <td>0</td>\n",
       "      <td>0</td>\n",
       "      <td>0</td>\n",
       "      <td>1</td>\n",
       "      <td>0</td>\n",
       "      <td>3</td>\n",
       "      <td>2</td>\n",
       "      <td>2</td>\n",
       "      <td>0</td>\n",
       "      <td>0</td>\n",
       "      <td>0</td>\n",
       "    </tr>\n",
       "    <tr>\n",
       "      <th>4</th>\n",
       "      <td>0</td>\n",
       "      <td>1</td>\n",
       "      <td>1</td>\n",
       "      <td>4</td>\n",
       "      <td>4</td>\n",
       "      <td>4</td>\n",
       "      <td>3</td>\n",
       "      <td>0</td>\n",
       "      <td>1</td>\n",
       "      <td>0</td>\n",
       "      <td>0</td>\n",
       "      <td>0</td>\n",
       "      <td>1</td>\n",
       "      <td>0</td>\n",
       "      <td>2</td>\n",
       "      <td>1</td>\n",
       "      <td>1</td>\n",
       "      <td>0</td>\n",
       "      <td>0</td>\n",
       "      <td>8</td>\n",
       "    </tr>\n",
       "    <tr>\n",
       "      <th>...</th>\n",
       "      <td>...</td>\n",
       "      <td>...</td>\n",
       "      <td>...</td>\n",
       "      <td>...</td>\n",
       "      <td>...</td>\n",
       "      <td>...</td>\n",
       "      <td>...</td>\n",
       "      <td>...</td>\n",
       "      <td>...</td>\n",
       "      <td>...</td>\n",
       "      <td>...</td>\n",
       "      <td>...</td>\n",
       "      <td>...</td>\n",
       "      <td>...</td>\n",
       "      <td>...</td>\n",
       "      <td>...</td>\n",
       "      <td>...</td>\n",
       "      <td>...</td>\n",
       "      <td>...</td>\n",
       "      <td>...</td>\n",
       "    </tr>\n",
       "    <tr>\n",
       "      <th>241</th>\n",
       "      <td>0</td>\n",
       "      <td>0</td>\n",
       "      <td>1</td>\n",
       "      <td>3</td>\n",
       "      <td>3</td>\n",
       "      <td>2</td>\n",
       "      <td>3</td>\n",
       "      <td>1</td>\n",
       "      <td>1</td>\n",
       "      <td>0</td>\n",
       "      <td>0</td>\n",
       "      <td>0</td>\n",
       "      <td>1</td>\n",
       "      <td>0</td>\n",
       "      <td>3</td>\n",
       "      <td>3</td>\n",
       "      <td>4</td>\n",
       "      <td>0</td>\n",
       "      <td>0</td>\n",
       "      <td>0</td>\n",
       "    </tr>\n",
       "    <tr>\n",
       "      <th>242</th>\n",
       "      <td>0</td>\n",
       "      <td>0</td>\n",
       "      <td>1</td>\n",
       "      <td>4</td>\n",
       "      <td>3</td>\n",
       "      <td>1</td>\n",
       "      <td>1</td>\n",
       "      <td>0</td>\n",
       "      <td>1</td>\n",
       "      <td>0</td>\n",
       "      <td>0</td>\n",
       "      <td>0</td>\n",
       "      <td>1</td>\n",
       "      <td>0</td>\n",
       "      <td>3</td>\n",
       "      <td>2</td>\n",
       "      <td>4</td>\n",
       "      <td>0</td>\n",
       "      <td>4</td>\n",
       "      <td>2</td>\n",
       "    </tr>\n",
       "    <tr>\n",
       "      <th>243</th>\n",
       "      <td>0</td>\n",
       "      <td>0</td>\n",
       "      <td>0</td>\n",
       "      <td>3</td>\n",
       "      <td>3</td>\n",
       "      <td>3</td>\n",
       "      <td>3</td>\n",
       "      <td>1</td>\n",
       "      <td>2</td>\n",
       "      <td>0</td>\n",
       "      <td>0</td>\n",
       "      <td>1</td>\n",
       "      <td>1</td>\n",
       "      <td>1</td>\n",
       "      <td>3</td>\n",
       "      <td>1</td>\n",
       "      <td>0</td>\n",
       "      <td>1</td>\n",
       "      <td>2</td>\n",
       "      <td>2</td>\n",
       "    </tr>\n",
       "    <tr>\n",
       "      <th>244</th>\n",
       "      <td>1</td>\n",
       "      <td>1</td>\n",
       "      <td>0</td>\n",
       "      <td>1</td>\n",
       "      <td>0</td>\n",
       "      <td>0</td>\n",
       "      <td>0</td>\n",
       "      <td>2</td>\n",
       "      <td>0</td>\n",
       "      <td>1</td>\n",
       "      <td>1</td>\n",
       "      <td>0</td>\n",
       "      <td>1</td>\n",
       "      <td>0</td>\n",
       "      <td>3</td>\n",
       "      <td>2</td>\n",
       "      <td>1</td>\n",
       "      <td>0</td>\n",
       "      <td>0</td>\n",
       "      <td>0</td>\n",
       "    </tr>\n",
       "    <tr>\n",
       "      <th>245</th>\n",
       "      <td>0</td>\n",
       "      <td>0</td>\n",
       "      <td>1</td>\n",
       "      <td>3</td>\n",
       "      <td>3</td>\n",
       "      <td>3</td>\n",
       "      <td>1</td>\n",
       "      <td>0</td>\n",
       "      <td>3</td>\n",
       "      <td>0</td>\n",
       "      <td>0</td>\n",
       "      <td>0</td>\n",
       "      <td>1</td>\n",
       "      <td>0</td>\n",
       "      <td>4</td>\n",
       "      <td>2</td>\n",
       "      <td>2</td>\n",
       "      <td>0</td>\n",
       "      <td>0</td>\n",
       "      <td>4</td>\n",
       "    </tr>\n",
       "  </tbody>\n",
       "</table>\n",
       "<p>246 rows × 20 columns</p>\n",
       "</div>"
      ],
      "text/plain": [
       "     school  sex  address  Medu  Fedu  Mjob  reason  traveltime  studytime  \\\n",
       "0         0    1        1     3     2     3       1           0          1   \n",
       "1         0    0        1     4     4     1       1           0          0   \n",
       "2         0    1        1     4     3     1       3           0          3   \n",
       "3         0    0        1     4     2     1       2           0          1   \n",
       "4         0    1        1     4     4     4       3           0          1   \n",
       "..      ...  ...      ...   ...   ...   ...     ...         ...        ...   \n",
       "241       0    0        1     3     3     2       3           1          1   \n",
       "242       0    0        1     4     3     1       1           0          1   \n",
       "243       0    0        0     3     3     3       3           1          2   \n",
       "244       1    1        0     1     0     0       0           2          0   \n",
       "245       0    0        1     3     3     3       1           0          3   \n",
       "\n",
       "     failures  schoolsup  paid  higher  romantic  famrel  freetime  goout  \\\n",
       "0           0          0     0       1         0       3         1      1   \n",
       "1           0          0     0       1         0       3         3      3   \n",
       "2           0          0     0       1         0       3         1      1   \n",
       "3           0          0     0       1         0       3         2      2   \n",
       "4           0          0     0       1         0       2         1      1   \n",
       "..        ...        ...   ...     ...       ...     ...       ...    ...   \n",
       "241         0          0     0       1         0       3         3      4   \n",
       "242         0          0     0       1         0       3         2      4   \n",
       "243         0          0     1       1         1       3         1      0   \n",
       "244         1          1     0       1         0       3         2      1   \n",
       "245         0          0     0       1         0       4         2      2   \n",
       "\n",
       "     Dalc  Walc  absences  \n",
       "0       0     0         0  \n",
       "1       0     1         6  \n",
       "2       0     0         2  \n",
       "3       0     0         0  \n",
       "4       0     0         8  \n",
       "..    ...   ...       ...  \n",
       "241     0     0         0  \n",
       "242     0     4         2  \n",
       "243     1     2         2  \n",
       "244     0     0         0  \n",
       "245     0     0         4  \n",
       "\n",
       "[246 rows x 20 columns]"
      ]
     },
     "execution_count": 249,
     "metadata": {},
     "output_type": "execute_result"
    }
   ],
   "source": [
    "df_selected"
   ]
  },
  {
   "cell_type": "code",
   "execution_count": 196,
   "metadata": {},
   "outputs": [],
   "source": [
    "# Hyperparameter tuning with Random Hyperparameter Grid\n",
    "from sklearn.model_selection import RandomizedSearchCV\n",
    "criterion = ['entropy', 'gini']\n",
    "# number of trees - 1000 seems to work well from just manual plugging in, anything below isn't good\n",
    "n_estimators = [int(x) for x in np.linspace(start = 900, stop = 2000, num = 12)]\n",
    "max_features = ['sqrt', 'log2', 'auto']\n",
    "max_depth = [int(x) for x in np.linspace(10, 100, num = 10)]\n",
    "#also evaluate having no limit on tree depth\n",
    "max_depth.append(None)\n",
    "min_samples_split = [2, 5, 10]\n",
    "min_samples_leaf = [1, 2, 4]\n",
    "bootstrap = [True, False]\n",
    "\n",
    "\n",
    "random_grid = {'n_estimators': n_estimators,\n",
    "               'criterion' : criterion,\n",
    "               'max_features': max_features,\n",
    "               'max_depth': max_depth,\n",
    "               'min_samples_split': min_samples_split,\n",
    "               'min_samples_leaf': min_samples_leaf,\n",
    "               'bootstrap': bootstrap}\n"
   ]
  },
  {
   "cell_type": "code",
   "execution_count": 194,
   "metadata": {},
   "outputs": [
    {
     "name": "stdout",
     "output_type": "stream",
     "text": [
      "{'n_estimators': [900, 1000, 1100, 1200, 1300, 1400, 1500, 1600, 1700, 1800, 1900, 2000], 'criterion': ['entropy', 'gini'], 'max_features': ['sqrt', 'log2', 'auto'], 'max_depth': [10, 20, 30, 40, 50, 60, 70, 80, 90, 100, None], 'min_samples_split': [2, 5, 10], 'min_samples_leaf': [1, 2, 4], 'bootstrap': [True, False]}\n"
     ]
    }
   ],
   "source": [
    "print(random_grid)"
   ]
  },
  {
   "cell_type": "code",
   "execution_count": 200,
   "metadata": {},
   "outputs": [
    {
     "name": "stdout",
     "output_type": "stream",
     "text": [
      "Fitting 3 folds for each of 2500 candidates, totalling 7500 fits\n"
     ]
    },
    {
     "name": "stderr",
     "output_type": "stream",
     "text": [
      "[Parallel(n_jobs=-1)]: Using backend LokyBackend with 4 concurrent workers.\n",
      "[Parallel(n_jobs=-1)]: Done  33 tasks      | elapsed:   17.9s\n",
      "[Parallel(n_jobs=-1)]: Done 154 tasks      | elapsed:  1.3min\n",
      "[Parallel(n_jobs=-1)]: Done 357 tasks      | elapsed:  2.9min\n",
      "[Parallel(n_jobs=-1)]: Done 640 tasks      | elapsed:  4.7min\n",
      "[Parallel(n_jobs=-1)]: Done 1005 tasks      | elapsed:  6.7min\n",
      "[Parallel(n_jobs=-1)]: Done 1450 tasks      | elapsed:  9.0min\n",
      "[Parallel(n_jobs=-1)]: Done 1977 tasks      | elapsed: 11.7min\n",
      "[Parallel(n_jobs=-1)]: Done 2584 tasks      | elapsed: 14.9min\n",
      "[Parallel(n_jobs=-1)]: Done 3273 tasks      | elapsed: 18.5min\n",
      "[Parallel(n_jobs=-1)]: Done 4042 tasks      | elapsed: 22.6min\n",
      "[Parallel(n_jobs=-1)]: Done 4893 tasks      | elapsed: 27.0min\n",
      "[Parallel(n_jobs=-1)]: Done 5824 tasks      | elapsed: 32.1min\n",
      "[Parallel(n_jobs=-1)]: Done 6837 tasks      | elapsed: 37.4min\n",
      "[Parallel(n_jobs=-1)]: Done 7500 out of 7500 | elapsed: 41.1min finished\n"
     ]
    },
    {
     "data": {
      "text/plain": [
       "RandomizedSearchCV(cv=3, error_score='raise-deprecating',\n",
       "          estimator=RandomForestClassifier(bootstrap=True, class_weight=None, criterion='gini',\n",
       "            max_depth=None, max_features='auto', max_leaf_nodes=None,\n",
       "            min_impurity_decrease=0.0, min_impurity_split=None,\n",
       "            min_samples_leaf=1, min_samples_split=2,\n",
       "            min_weight_fraction_leaf=0.0, n_estimators='warn', n_jobs=None,\n",
       "            oob_score=False, random_state=None, verbose=0,\n",
       "            warm_start=False),\n",
       "          fit_params=None, iid='warn', n_iter=2500, n_jobs=-1,\n",
       "          param_distributions={'n_estimators': [900, 1000, 1100, 1200, 1300, 1400, 1500, 1600, 1700, 1800, 1900, 2000], 'criterion': ['entropy', 'gini'], 'max_features': ['sqrt', 'log2', 'auto'], 'max_depth': [10, 20, 30, 40, 50, 60, 70, 80, 90, 100, None], 'min_samples_split': [2, 5, 10], 'min_samples_leaf': [1, 2, 4], 'bootstrap': [True, False]},\n",
       "          pre_dispatch='2*n_jobs', random_state=42, refit=True,\n",
       "          return_train_score='warn', scoring=None, verbose=2)"
      ]
     },
     "execution_count": 200,
     "metadata": {},
     "output_type": "execute_result"
    }
   ],
   "source": [
    "# Use the random grid to search for best hyperparameters\n",
    "# First create the base model to tune\n",
    "# Random search of parameters, using 3 fold cross validation, \n",
    "# search across 100 different combinations, and use all available cores\n",
    "cv = RandomForestClassifier()\n",
    "rf_random = RandomizedSearchCV(estimator = cv, param_distributions = random_grid, n_iter = 1000, cv = 3, verbose=2, random_state=42, n_jobs = -1)\n",
    "# Fit the random search model\n",
    "rf_random.fit(train_x, train_y)"
   ]
  },
  {
   "cell_type": "code",
   "execution_count": 201,
   "metadata": {},
   "outputs": [
    {
     "name": "stdout",
     "output_type": "stream",
     "text": [
      "0.62\n",
      "0.64\n"
     ]
    }
   ],
   "source": [
    "base_model = RandomForestClassifier(n_estimators = 1000, random_state = 42)\n",
    "base_model.fit(train_x, train_y)\n",
    "predictions_base = base_model.predict(test_x)\n",
    "\n",
    "best_model = rf_random.best_estimator_\n",
    "predictions_best = best_model.predict(test_x)\n",
    "\n",
    "\n",
    "\n",
    "print(sum(predictions_base==test_y)/len(test_y)) \n",
    "print(sum(predictions_best==test_y)/len(test_y)) \n"
   ]
  },
  {
   "cell_type": "code",
   "execution_count": 204,
   "metadata": {},
   "outputs": [
    {
     "data": {
      "text/plain": [
       "{'n_estimators': 1300,\n",
       " 'min_samples_split': 2,\n",
       " 'min_samples_leaf': 1,\n",
       " 'max_features': 'auto',\n",
       " 'max_depth': 20,\n",
       " 'criterion': 'gini',\n",
       " 'bootstrap': False}"
      ]
     },
     "execution_count": 204,
     "metadata": {},
     "output_type": "execute_result"
    }
   ],
   "source": [
    "rf_random.best_params_\n",
    "\n"
   ]
  },
  {
   "cell_type": "code",
   "execution_count": 222,
   "metadata": {},
   "outputs": [
    {
     "name": "stdout",
     "output_type": "stream",
     "text": [
      "Fitting 3 folds for each of 144 candidates, totalling 432 fits\n"
     ]
    },
    {
     "name": "stderr",
     "output_type": "stream",
     "text": [
      "[Parallel(n_jobs=-1)]: Using backend LokyBackend with 4 concurrent workers.\n",
      "[Parallel(n_jobs=-1)]: Done  33 tasks      | elapsed:    9.5s\n",
      "[Parallel(n_jobs=-1)]: Done 154 tasks      | elapsed:   37.3s\n",
      "[Parallel(n_jobs=-1)]: Done 357 tasks      | elapsed:  1.4min\n",
      "[Parallel(n_jobs=-1)]: Done 432 out of 432 | elapsed:  1.7min finished\n"
     ]
    },
    {
     "data": {
      "text/plain": [
       "{'max_depth': 3,\n",
       " 'min_samples_leaf': 1,\n",
       " 'min_samples_split': 4,\n",
       " 'n_estimators': 1100}"
      ]
     },
     "execution_count": 222,
     "metadata": {},
     "output_type": "execute_result"
    }
   ],
   "source": [
    "from sklearn.model_selection import GridSearchCV\n",
    "# Create the parameter grid based on the results of random search \n",
    "param_grid = {\n",
    "    'n_estimators': [1000, 1100, 1200, 1300],\n",
    "    'min_samples_leaf': [1,2,3, 4],\n",
    "    'min_samples_split': [2, 3, 4],\n",
    "   # 'max_features': [2, 3],\n",
    "    'max_depth': [2,3,4]\n",
    "    #'bootstrap': [False],\n",
    "    #'criterion': ['gini'] \n",
    "}\n",
    "# Create a based model\n",
    "rf = RandomForestClassifier()\n",
    "# Instantiate the grid search model\n",
    "grid_search = GridSearchCV(estimator = rf, param_grid = param_grid, cv = 3, n_jobs = -1, verbose = 2)\n",
    "grid_search.fit(train_x, train_y)\n"
   ]
  },
  {
   "cell_type": "code",
   "execution_count": 235,
   "metadata": {},
   "outputs": [
    {
     "data": {
      "text/plain": [
       "{'max_depth': 3,\n",
       " 'min_samples_leaf': 1,\n",
       " 'min_samples_split': 4,\n",
       " 'n_estimators': 1100}"
      ]
     },
     "execution_count": 235,
     "metadata": {},
     "output_type": "execute_result"
    }
   ],
   "source": [
    "grid_search.best_params_"
   ]
  },
  {
   "cell_type": "code",
   "execution_count": 240,
   "metadata": {},
   "outputs": [],
   "source": [
    "predictions = grid_search.predict(test_x)"
   ]
  },
  {
   "cell_type": "code",
   "execution_count": 242,
   "metadata": {},
   "outputs": [
    {
     "name": "stdout",
     "output_type": "stream",
     "text": [
      "0.68\n"
     ]
    }
   ],
   "source": [
    "print(sum(predictions==test_y)/len(test_y)) \n"
   ]
  },
  {
   "cell_type": "code",
   "execution_count": 389,
   "metadata": {},
   "outputs": [
    {
     "name": "stdout",
     "output_type": "stream",
     "text": [
      "0.26040061633281975\n"
     ]
    }
   ],
   "source": [
    "from sklearn.cluster import KMeans\n",
    "from sklearn.preprocessing import MinMaxScaler\n",
    "\n",
    "\n",
    "dat = np.array(df.drop(['G3','G3_binary', 'G3_discrete'], axis =1).astype(float))\n",
    "y = np.array(df['G3_discrete'])\n",
    "\n",
    "scaler = MinMaxScaler()\n",
    "dat = scaler.fit_transform(dat)\n",
    "\n",
    "kmeans = KMeans(n_clusters=3, max_iter=600, algorithm = 'auto')\n",
    "kmeans.fit(dat)\n",
    "#kmeans.labels_\n",
    "#kmeans.predict([[0, 0], [12, 3]])\n",
    "\n",
    "#kmeans.cluster_centers_\n",
    "\n",
    "correct = 0\n",
    "for i in range(len(dat)):\n",
    "    predict_me = np.array(dat[i].astype(float))\n",
    "    predict_me = predict_me.reshape(-1, len(predict_me))\n",
    "    prediction = kmeans.predict(predict_me)\n",
    "    \n",
    "    if prediction[0] == y[i]:\n",
    "        correct += 1\n",
    "\n",
    "print(correct/len(dat))"
   ]
  },
  {
   "cell_type": "code",
   "execution_count": 390,
   "metadata": {},
   "outputs": [
    {
     "name": "stdout",
     "output_type": "stream",
     "text": [
      "[2 2 2 2 2 1 1 2 1 1 2 2 1 1 1 2 2 2 1 1 1 1 1 1 2 2 1 1 1 1 1 1 1 1 1 2 1\n",
      " 1 2 2 2 1 1 1 2 2 2 1 1 2 2 2 1 2 2 2 2 1 1 2 2 2 2 2 2 2 1 2 2 2 1 1 2 1\n",
      " 2 1 1 2 1 2 1 1 2 1 2 2 2 2 1 1 2 2 2 2 1 2 1 2 2 2 1 1 1 2 1 2 2 1 1 2 1\n",
      " 2 2 1 1 1 1 1 1 1 2 1 2 1 2 1 2 2 1 1 2 2 2 2 2 2 0 2 0 2 0 0 1 2 0 2 1 2\n",
      " 0 1 2 1 1 2 2 1 2 2 2 2 0 1 1 1 1 2 1 2 1 1 0 0 1 1 1 1 1 1 0 1 1 2 2 2 1\n",
      " 1 1 2 2 1 2 1 1 1 1 1 2 2 2 1 1 1 2 0 2 2 1 1 1 2 1 1 2 2 2 2 2 2 2 2 2 2\n",
      " 2 2 2 1 2 1 2 2 2 1 2 2 2 2 2 1 2 2 2 1 1 2 2 1 1 1 1 1 1 2 2 2 2 2 1 1 2\n",
      " 2 2 0 2 1 2 0 2 1 1 1 1 2 0 2 2 2 1 2 1 1 1 1 1 1 1 0 1 1 2 2 2 1 2 2 0 1\n",
      " 1 0 2 2 2 1 1 2 2 1 1 1 2 1 2 2 2 2 0 2 2 2 0 1 2 2 2 1 1 1 1 2 2 2 2 1 2\n",
      " 2 1 1 1 2 2 1 1 2 2 2 1 2 1 2 2 2 1 1 1 2 2 2 2 2 2 2 2 1 2 2 2 2 2 2 1 0\n",
      " 2 2 2 2 2 2 2 1 1 1 2 2 2 1 0 0 2 1 2 2 0 2 2 2 2 1 1 2 2 2 1 1 2 2 2 2 2\n",
      " 2 1 1 2 1 2 1 2 2 1 2 1 1 2 2 2 0 0 0 0 0 0 0 1 0 0 0 0 0 0 0 0 0 0 1 1 1\n",
      " 0 0 1 0 0 0 0 0 0 0 0 2 0 1 0 0 0 0 0 0 0 0 0 0 0 0 0 0 0 1 0 0 0 1 0 0 0\n",
      " 0 0 0 0 0 0 0 0 0 0 0 0 0 0 0 0 1 2 0 1 1 0 2 0 0 0 0 0 0 0 0 0 0 0 0 0 0\n",
      " 2 0 0 0 2 1 0 1 0 0 0 0 1 0 0 0 1 0 1 1 0 2 0 0 2 0 0 1 2 0 0 0 0 1 1 0 0\n",
      " 0 0 0 0 0 0 0 0 0 0 0 0 0 0 1 0 0 0 0 0 0 0 0 1 0 0 0 0 0 0 0 2 0 0 0 0 0\n",
      " 2 0 2 1 2 0 0 0 0 0 0 0 0 0 0 0 0 0 0 0 0 0 0 0 0 0 0 2 2 0 0 1 0 0 0 0 0\n",
      " 0 0 0 0 0 0 0 1 0 1 0 0 0 2 0 0 2 0 1 0]\n"
     ]
    }
   ],
   "source": [
    "print(kmeans.labels_)\n"
   ]
  },
  {
   "cell_type": "code",
   "execution_count": null,
   "metadata": {},
   "outputs": [],
   "source": []
  },
  {
   "cell_type": "code",
   "execution_count": 424,
   "metadata": {},
   "outputs": [
    {
     "name": "stdout",
     "output_type": "stream",
     "text": [
      "Checking whether there is an H2O instance running at http://localhost:54321 . connected.\n"
     ]
    },
    {
     "data": {
      "text/html": [
       "<div style=\"overflow:auto\"><table style=\"width:50%\"><tr><td>H2O_cluster_uptime:</td>\n",
       "<td>18 hours 30 mins</td></tr>\n",
       "<tr><td>H2O_cluster_timezone:</td>\n",
       "<td>Etc/UTC</td></tr>\n",
       "<tr><td>H2O_data_parsing_timezone:</td>\n",
       "<td>UTC</td></tr>\n",
       "<tr><td>H2O_cluster_version:</td>\n",
       "<td>3.30.0.5</td></tr>\n",
       "<tr><td>H2O_cluster_version_age:</td>\n",
       "<td>7 days, 10 hours and 19 minutes </td></tr>\n",
       "<tr><td>H2O_cluster_name:</td>\n",
       "<td>H2O_from_python_azureuser_wm29mm</td></tr>\n",
       "<tr><td>H2O_cluster_total_nodes:</td>\n",
       "<td>1</td></tr>\n",
       "<tr><td>H2O_cluster_free_memory:</td>\n",
       "<td>2.569 Gb</td></tr>\n",
       "<tr><td>H2O_cluster_total_cores:</td>\n",
       "<td>4</td></tr>\n",
       "<tr><td>H2O_cluster_allowed_cores:</td>\n",
       "<td>4</td></tr>\n",
       "<tr><td>H2O_cluster_status:</td>\n",
       "<td>locked, healthy</td></tr>\n",
       "<tr><td>H2O_connection_url:</td>\n",
       "<td>http://localhost:54321</td></tr>\n",
       "<tr><td>H2O_connection_proxy:</td>\n",
       "<td>{\"http\": null, \"https\": null}</td></tr>\n",
       "<tr><td>H2O_internal_security:</td>\n",
       "<td>False</td></tr>\n",
       "<tr><td>H2O_API_Extensions:</td>\n",
       "<td>Amazon S3, XGBoost, Algos, AutoML, Core V3, TargetEncoder, Core V4</td></tr>\n",
       "<tr><td>Python_version:</td>\n",
       "<td>3.6.9 final</td></tr></table></div>"
      ],
      "text/plain": [
       "--------------------------  ------------------------------------------------------------------\n",
       "H2O_cluster_uptime:         18 hours 30 mins\n",
       "H2O_cluster_timezone:       Etc/UTC\n",
       "H2O_data_parsing_timezone:  UTC\n",
       "H2O_cluster_version:        3.30.0.5\n",
       "H2O_cluster_version_age:    7 days, 10 hours and 19 minutes\n",
       "H2O_cluster_name:           H2O_from_python_azureuser_wm29mm\n",
       "H2O_cluster_total_nodes:    1\n",
       "H2O_cluster_free_memory:    2.569 Gb\n",
       "H2O_cluster_total_cores:    4\n",
       "H2O_cluster_allowed_cores:  4\n",
       "H2O_cluster_status:         locked, healthy\n",
       "H2O_connection_url:         http://localhost:54321\n",
       "H2O_connection_proxy:       {\"http\": null, \"https\": null}\n",
       "H2O_internal_security:      False\n",
       "H2O_API_Extensions:         Amazon S3, XGBoost, Algos, AutoML, Core V3, TargetEncoder, Core V4\n",
       "Python_version:             3.6.9 final\n",
       "--------------------------  ------------------------------------------------------------------"
      ]
     },
     "metadata": {},
     "output_type": "display_data"
    }
   ],
   "source": [
    "# Random forest with H2O\n",
    "import h2o\n",
    "from h2o.estimators import H2ORandomForestEstimator\n",
    "h2o.init()\n",
    "\n",
    "\n",
    "model = H2ORandomForestEstimator(ntrees=1000, max_depth=20,sample_rate=1)\n"
   ]
  },
  {
   "cell_type": "code",
   "execution_count": 581,
   "metadata": {},
   "outputs": [
    {
     "name": "stdout",
     "output_type": "stream",
     "text": [
      "Parse progress: |█████████████████████████████████████████████████████████| 100%\n"
     ]
    },
    {
     "name": "stderr",
     "output_type": "stream",
     "text": [
      "/anaconda/envs/azureml_py36/lib/python3.6/site-packages/h2o/estimators/estimator_base.py:200: RuntimeWarning: Sample rate is 100% and no validation dataset and no cross-validation. There are no out-of-bag data to compute error estimates on the training data!\n",
      "  warnings.warn(mesg[\"message\"], RuntimeWarning)\n"
     ]
    },
    {
     "name": "stdout",
     "output_type": "stream",
     "text": [
      "drf Model Build progress: |███████████████████████████████████████████████| 100%\n"
     ]
    }
   ],
   "source": [
    "import h2o\n",
    "from h2o.estimators import H2ORandomForestEstimator\n",
    "from h2o import H2OFrame\n",
    "#from h2o import splitFrame\n",
    "\n",
    "data = processed_df.drop(['G3'], axis = 1)\n",
    "\n",
    "\n",
    "class_0 = data[data['G3_discrete'] == 'very good to excellent']\n",
    "class_2 = data[data['G3_discrete'] == 'very poor to poor' ].sample(len(class_0), random_state = 0) \n",
    "class_1 = data[data['G3_discrete'] == 'sufficient to good' ].sample(len(class_0), random_state = 0)\n",
    "\n",
    "frames = [class_1, class_2, class_0]\n",
    "balanced = pd.concat(frames)\n",
    "\n",
    "# feature selection\n",
    "X = balanced_sample.drop(['G3_discrete', 'G3'], axis=1)\n",
    "y = balanced['G3_discrete']\n",
    "selector = SelectKBest(chi2, k=14)\n",
    "feature_data = selector.fit_transform(X, y)\n",
    "mask=selector.get_support()\n",
    "feature_names = X.columns[mask]\n",
    "\n",
    "balanced = pd.DataFrame(balanced, columns=feature_names)\n",
    "balanced = pd.concat([balanced, y], axis=1, sort=False)\n",
    "\n",
    "attributes = list(balanced)\n",
    "training_columns = [a for a in attributes if a not in ('G3_discrete')]\n",
    "# Output parameter train against input parameters\n",
    "response_column = 'G3_discrete'\n",
    "\n",
    "data_s=h2o.H2OFrame(balanced)\n",
    "train, test = data_s.split_frame(ratios=[0.8])\n",
    "\n",
    "# Train model\n",
    "model.train(x=training_columns, y=response_column, training_frame=train)"
   ]
  },
  {
   "cell_type": "code",
   "execution_count": 582,
   "metadata": {},
   "outputs": [],
   "source": [
    "performance = model.model_performance(test_data=test)"
   ]
  },
  {
   "cell_type": "code",
   "execution_count": 583,
   "metadata": {},
   "outputs": [
    {
     "name": "stdout",
     "output_type": "stream",
     "text": [
      "\n",
      "ModelMetricsMultinomial: drf\n",
      "** Reported on test data. **\n",
      "\n",
      "MSE: 0.12477109844109208\n",
      "RMSE: 0.35322952657031953\n",
      "LogLoss: 0.41883422192620395\n",
      "Mean Per-Class Error: 0.1878787878787879\n",
      "\n",
      "Confusion Matrix: Row labels: Actual class; Column labels: Predicted class\n"
     ]
    },
    {
     "data": {
      "text/html": [
       "<div>\n",
       "<style scoped>\n",
       "    .dataframe tbody tr th:only-of-type {\n",
       "        vertical-align: middle;\n",
       "    }\n",
       "\n",
       "    .dataframe tbody tr th {\n",
       "        vertical-align: top;\n",
       "    }\n",
       "\n",
       "    .dataframe thead th {\n",
       "        text-align: right;\n",
       "    }\n",
       "</style>\n",
       "<table border=\"1\" class=\"dataframe\">\n",
       "  <thead>\n",
       "    <tr style=\"text-align: right;\">\n",
       "      <th></th>\n",
       "      <th>sufficient to good</th>\n",
       "      <th>very good to excellent</th>\n",
       "      <th>very poor to poor</th>\n",
       "      <th>Error</th>\n",
       "      <th>Rate</th>\n",
       "    </tr>\n",
       "  </thead>\n",
       "  <tbody>\n",
       "    <tr>\n",
       "      <th>0</th>\n",
       "      <td>14.0</td>\n",
       "      <td>4.0</td>\n",
       "      <td>4.0</td>\n",
       "      <td>0.363636</td>\n",
       "      <td>8 / 22</td>\n",
       "    </tr>\n",
       "    <tr>\n",
       "      <th>1</th>\n",
       "      <td>0.0</td>\n",
       "      <td>20.0</td>\n",
       "      <td>0.0</td>\n",
       "      <td>0.000000</td>\n",
       "      <td>0 / 20</td>\n",
       "    </tr>\n",
       "    <tr>\n",
       "      <th>2</th>\n",
       "      <td>3.0</td>\n",
       "      <td>0.0</td>\n",
       "      <td>12.0</td>\n",
       "      <td>0.200000</td>\n",
       "      <td>3 / 15</td>\n",
       "    </tr>\n",
       "    <tr>\n",
       "      <th>3</th>\n",
       "      <td>17.0</td>\n",
       "      <td>24.0</td>\n",
       "      <td>16.0</td>\n",
       "      <td>0.192982</td>\n",
       "      <td>11 / 57</td>\n",
       "    </tr>\n",
       "  </tbody>\n",
       "</table>\n",
       "</div>"
      ],
      "text/plain": [
       "   sufficient to good  very good to excellent  very poor to poor     Error  \\\n",
       "0                14.0                     4.0                4.0  0.363636   \n",
       "1                 0.0                    20.0                0.0  0.000000   \n",
       "2                 3.0                     0.0               12.0  0.200000   \n",
       "3                17.0                    24.0               16.0  0.192982   \n",
       "\n",
       "      Rate  \n",
       "0   8 / 22  \n",
       "1   0 / 20  \n",
       "2   3 / 15  \n",
       "3  11 / 57  "
      ]
     },
     "metadata": {},
     "output_type": "display_data"
    },
    {
     "name": "stdout",
     "output_type": "stream",
     "text": [
      "\n",
      "Top-3 Hit Ratios: \n"
     ]
    },
    {
     "data": {
      "text/html": [
       "<div>\n",
       "<style scoped>\n",
       "    .dataframe tbody tr th:only-of-type {\n",
       "        vertical-align: middle;\n",
       "    }\n",
       "\n",
       "    .dataframe tbody tr th {\n",
       "        vertical-align: top;\n",
       "    }\n",
       "\n",
       "    .dataframe thead th {\n",
       "        text-align: right;\n",
       "    }\n",
       "</style>\n",
       "<table border=\"1\" class=\"dataframe\">\n",
       "  <thead>\n",
       "    <tr style=\"text-align: right;\">\n",
       "      <th></th>\n",
       "      <th>k</th>\n",
       "      <th>hit_ratio</th>\n",
       "    </tr>\n",
       "  </thead>\n",
       "  <tbody>\n",
       "    <tr>\n",
       "      <th>0</th>\n",
       "      <td>1</td>\n",
       "      <td>0.807018</td>\n",
       "    </tr>\n",
       "    <tr>\n",
       "      <th>1</th>\n",
       "      <td>2</td>\n",
       "      <td>0.982456</td>\n",
       "    </tr>\n",
       "    <tr>\n",
       "      <th>2</th>\n",
       "      <td>3</td>\n",
       "      <td>1.000000</td>\n",
       "    </tr>\n",
       "  </tbody>\n",
       "</table>\n",
       "</div>"
      ],
      "text/plain": [
       "   k  hit_ratio\n",
       "0  1   0.807018\n",
       "1  2   0.982456\n",
       "2  3   1.000000"
      ]
     },
     "metadata": {},
     "output_type": "display_data"
    },
    {
     "data": {
      "text/plain": []
     },
     "execution_count": 583,
     "metadata": {},
     "output_type": "execute_result"
    }
   ],
   "source": [
    "#balanced.groupby('G3_discrete').count()\n",
    "#train\n",
    "#response_column\n",
    "#balanced\n",
    "performance"
   ]
  },
  {
   "cell_type": "code",
   "execution_count": null,
   "metadata": {},
   "outputs": [],
   "source": []
  }
 ],
 "metadata": {
  "kernelspec": {
   "display_name": "Python 3.6 - AzureML",
   "language": "python",
   "name": "python3-azureml"
  },
  "language_info": {
   "codemirror_mode": {
    "name": "ipython",
    "version": 3
   },
   "file_extension": ".py",
   "mimetype": "text/x-python",
   "name": "python",
   "nbconvert_exporter": "python",
   "pygments_lexer": "ipython3",
   "version": "3.6.9"
  }
 },
 "nbformat": 4,
 "nbformat_minor": 2
}
