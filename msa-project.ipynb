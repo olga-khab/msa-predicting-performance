{
 "cells": [
  {
   "cell_type": "markdown",
   "metadata": {},
   "source": [
    "# Education ..."
   ]
  },
  {
   "cell_type": "markdown",
   "metadata": {},
   "source": [
    "Project descriptions"
   ]
  },
  {
   "cell_type": "markdown",
   "metadata": {},
   "source": [
    "## Step 1: Loading and exploring the dataset"
   ]
  },
  {
   "cell_type": "code",
   "execution_count": 305,
   "metadata": {
    "scrolled": true
   },
   "outputs": [],
   "source": [
    "import pandas as pd\n",
    "# read in the mathematics dataset\n",
    "maths_df = pd.read_csv(\"student-mat.csv\", sep=\";\")\n"
   ]
  },
  {
   "cell_type": "markdown",
   "metadata": {},
   "source": [
    "## Step 2: Pre-processing"
   ]
  },
  {
   "cell_type": "code",
   "execution_count": 306,
   "metadata": {},
   "outputs": [
    {
     "name": "stdout",
     "output_type": "stream",
     "text": [
      "False\n"
     ]
    }
   ],
   "source": [
    "# Check for missing values\n",
    "print(maths_df.isnull().values.any())"
   ]
  },
  {
   "cell_type": "markdown",
   "metadata": {},
   "source": [
    "G3 (final year grade) was calculated using G1 and G2 (1st and 2nd period grades). We will use G3 as the responce variable and later on as the class variable by converitng it to a discrete scale. Since G3 is correlated with G1 and G2, the period grade variables will not be used as predictors in this analysis.\n",
    "\n",
    "About categorical/numeric..."
   ]
  },
  {
   "cell_type": "markdown",
   "metadata": {},
   "source": []
  },
  {
   "cell_type": "code",
   "execution_count": 446,
   "metadata": {},
   "outputs": [
    {
     "data": {
      "text/plain": [
       "\"\\n# Get column names\\nattributes = list(df)\\n# Exclude the attributes that should be treated as numeric\\nattributes = [a for a in attributes if a not in ('age', 'absences')]\\nfor attribute in attributes:\\n    df[attribute] = df[attribute].astype('category',copy=False)\\n\\n    \""
      ]
     },
     "execution_count": 446,
     "metadata": {},
     "output_type": "execute_result"
    }
   ],
   "source": [
    "# Remove G1 and G2 \n",
    "df = maths_df.drop(['G1', 'G2'], axis = 1)\n",
    "\n",
    "#df.info()\n",
    "#<-------------------- Convert grade to a discrete scale ---------------------->#\n",
    "# Conversion intervals based on Portugal's grade classification system\n",
    "\n",
    "\n",
    "'''\n",
    "conditions = [\n",
    "    (df['G3'] >= 0) & (df['G3'] < 7),\n",
    "    (df['G3'] >= 7) & (df['G3'] < 10),\n",
    "    (df['G3'] >= 10) & (df['G3'] < 14),\n",
    "    (df['G3'] >= 14) & (df['G3'] < 16),\n",
    "    (df['G3'] >= 16) & (df['G3'] < 18),\n",
    "    (df['G3'] >= 18) & (df['G3'] <= 20)\n",
    "]\n",
    "choices = ['very poor', 'poor', 'sufficient', 'good', 'very good', 'excellent']\n",
    "'''\n",
    "\n",
    "# a less fragmented classification with groups lumped together\n",
    "\n",
    "conditions = [\n",
    "    (df['G3'] >= 0) & (df['G3'] < 10),\n",
    "    (df['G3'] >= 10) & (df['G3'] < 16),\n",
    "    (df['G3'] >= 16) & (df['G3'] <= 20),\n",
    "]\n",
    "\n",
    "choices = ['very poor to poor', 'sufficient to good', 'very good to excellent']\n",
    "\n",
    "\n",
    "# corresponding grade classifications\n",
    "\n",
    "df['G3_discrete'] = np.select(conditions, choices)\n",
    "\n",
    "conditions_binary = [\n",
    "    (df_discrete['G3'] >= 0) & (df_discrete['G3'] < 10),\n",
    "    (df_discrete['G3'] >= 10) & (df_discrete['G3'] <= 20),\n",
    "]\n",
    "\n",
    "choices_binary = ['fail', 'pass']\n",
    "df['G3_binary'] = np.select(conditions_binary, choices_binary)\n",
    "\n",
    "# No longer need numeric grade column\n",
    "#df = df.drop('G3', axis=1)\n",
    "\n",
    "#<-------------------- Change labels to numeric values ---------------------->#\n",
    "\n",
    "# Some categorical variables are already encoded with numbers (e.g. studytime 0-4), we need to encode the rest\n",
    "# df.info()\n",
    "attributes = list(df)\n",
    "labels = [a for a in attributes if a not in ('age', 'absences', 'G3')]\n",
    "\n",
    "# object-type attributes are strings - we need to recode these\n",
    "#labels = df.select_dtypes(include = \"object\").columns\n",
    "from sklearn.preprocessing import LabelEncoder\n",
    "le = LabelEncoder()\n",
    "for l in labels:\n",
    "    df[l] = le.fit_transform(df[l].astype(str))\n",
    "#print(df.head())\n",
    "\n",
    "#<-------------------- Treat ordinal attributes as categorical, not numeric ---------------------->#\n",
    "'''\n",
    "# Get column names\n",
    "attributes = list(df)\n",
    "# Exclude the attributes that should be treated as numeric\n",
    "attributes = [a for a in attributes if a not in ('age', 'absences')]\n",
    "for attribute in attributes:\n",
    "    df[attribute] = df[attribute].astype('category',copy=False)\n",
    "\n",
    "    '''\n"
   ]
  },
  {
   "cell_type": "code",
   "execution_count": 447,
   "metadata": {},
   "outputs": [
    {
     "data": {
      "text/plain": [
       "<matplotlib.axes._subplots.AxesSubplot at 0x7fc67d4dc390>"
      ]
     },
     "execution_count": 447,
     "metadata": {},
     "output_type": "execute_result"
    },
    {
     "data": {
      "image/png": "[encoded data removed]",
      "text/plain": [
       "<Figure size 432x288 with 1 Axes>"
      ]
     },
     "metadata": {},
     "output_type": "display_data"
    }
   ],
   "source": [
    "# check if G3 values make sense (are between 0 and 20)\n",
    "import seaborn as sn\n",
    "sn.set(color_codes=True)\n",
    "sn.distplot(df['G3'], kde=False)\n",
    "\n",
    "# As expected, the grade distribution is approximately bell-curved. \n",
    "# The class \"sufficient to good\" clearly dominates the dataset\n",
    "\n",
    "# Need to use under-sampling\n",
    "\n"
   ]
  },
  {
   "cell_type": "code",
   "execution_count": 635,
   "metadata": {},
   "outputs": [],
   "source": [
    "from sklearn.model_selection import train_test_split\n",
    "from sklearn.feature_selection import SelectKBest, chi2\n",
    "\n",
    "class_1 = df[df['G3_discrete'] == 1 ] \n",
    "class_0 = df[df['G3_discrete'] == 0 ].sample(len(class_1), random_state=42)\n",
    "class_2 = df[df['G3_discrete'] == 2 ].sample(len(class_1), random_state=42) \n",
    "frames = [class_1, class_2, class_0]\n",
    "balanced_sample = pd.concat(frames)\n",
    "\n",
    "X = balanced_sample.drop(['G3_discrete','G3_binary', 'G3'], axis=1)\n",
    "y = balanced_sample['G3_discrete']\n",
    "selector = SelectKBest(chi2, k=15)\n",
    "feature_data = selector.fit_transform(X, y)\n",
    "mask=selector.get_support()\n",
    "feature_names = X.columns[mask]\n",
    "df_selected = pd.DataFrame(feature_data, columns=feature_names)\n",
    "\n",
    "# Now split the data into training and testing (80/20)\n",
    "train_x, test_x, train_y, test_y = train_test_split(df_selected, y, stratify=y, test_size=0.2, random_state=42)\n",
    "# no feature selection\n",
    "# train_x, test_x, train_y, test_y = train_test_split(df.drop(['G3_discrete','G3_binary', 'G3', 'school'], axis=1), df['G3_discrete'],stratify=df['G3_discrete'], test_size=0.2, random_state=42)\n",
    "#g_class = GaussianNB()\n",
    "\n",
    "#Train the model using the training sets\n",
    "#g_class.fit(train_x, train_y)\n",
    "\n",
    "#Predict the response for test dataset\n",
    "#pred_y = g_class.predict(test_x)\n",
    "\n",
    "#cm=metrics.confusion_matrix(test_y,pred_y)\n",
    "#df_cm = pd.DataFrame(cm, range(6), range(6))\n",
    "\n",
    "#sn.set(font_scale=1.4) # for label size\n",
    "#sn.heatmap(df_cm, annot=True, annot_kws={\"size\": 16}) # font size\n",
    "\n",
    "#plt.show()\n",
    "\n",
    "#np.count_nonzero(pred_y!=test_y)\n",
    "\n",
    "#sum(train_y==2)\n",
    "\n"
   ]
  },
  {
   "cell_type": "code",
   "execution_count": 636,
   "metadata": {},
   "outputs": [
    {
     "name": "stdout",
     "output_type": "stream",
     "text": [
      "[2 5 5 5 5 3 4 4 2 2 5 5 5 5]\n"
     ]
    },
    {
     "ename": "IndexError",
     "evalue": "index 3 is out of bounds for axis 1 with size 3",
     "output_type": "error",
     "traceback": [
      "\u001b[0;31m---------------------------------------------------------------------------\u001b[0m",
      "\u001b[0;31mIndexError\u001b[0m                                Traceback (most recent call last)",
      "\u001b[0;32m<ipython-input-636-dce66ae49207>\u001b[0m in \u001b[0;36m<module>\u001b[0;34m\u001b[0m\n\u001b[1;32m     13\u001b[0m \u001b[0;34m\u001b[0m\u001b[0m\n\u001b[1;32m     14\u001b[0m \u001b[0mclf\u001b[0m\u001b[0;34m.\u001b[0m\u001b[0mfit\u001b[0m\u001b[0;34m(\u001b[0m\u001b[0mtrain_x\u001b[0m\u001b[0;34m,\u001b[0m\u001b[0mtrain_y\u001b[0m\u001b[0;34m)\u001b[0m\u001b[0;34m\u001b[0m\u001b[0;34m\u001b[0m\u001b[0m\n\u001b[0;32m---> 15\u001b[0;31m \u001b[0mpred\u001b[0m \u001b[0;34m=\u001b[0m \u001b[0mclf\u001b[0m\u001b[0;34m.\u001b[0m\u001b[0mpredict\u001b[0m\u001b[0;34m(\u001b[0m\u001b[0mtest_x\u001b[0m\u001b[0;34m)\u001b[0m\u001b[0;34m\u001b[0m\u001b[0;34m\u001b[0m\u001b[0m\n\u001b[0m\u001b[1;32m     16\u001b[0m \u001b[0;34m\u001b[0m\u001b[0m\n\u001b[1;32m     17\u001b[0m \u001b[0;34m\u001b[0m\u001b[0m\n",
      "\u001b[0;32m/anaconda/envs/azureml_py36/lib/python3.6/site-packages/mixed_naive_bayes/mixed_naive_bayes.py\u001b[0m in \u001b[0;36mpredict\u001b[0;34m(self, X, verbose)\u001b[0m\n\u001b[1;32m    293\u001b[0m             \u001b[0mPredicted\u001b[0m \u001b[0mtarget\u001b[0m \u001b[0mvalues\u001b[0m \u001b[0;32mfor\u001b[0m \u001b[0mX\u001b[0m\u001b[0;34m\u001b[0m\u001b[0;34m\u001b[0m\u001b[0m\n\u001b[1;32m    294\u001b[0m         \"\"\"\n\u001b[0;32m--> 295\u001b[0;31m         \u001b[0mprobs\u001b[0m \u001b[0;34m=\u001b[0m \u001b[0mself\u001b[0m\u001b[0;34m.\u001b[0m\u001b[0mpredict_proba\u001b[0m\u001b[0;34m(\u001b[0m\u001b[0mX\u001b[0m\u001b[0;34m,\u001b[0m \u001b[0mverbose\u001b[0m\u001b[0;34m)\u001b[0m\u001b[0;34m\u001b[0m\u001b[0;34m\u001b[0m\u001b[0m\n\u001b[0m\u001b[1;32m    296\u001b[0m         \u001b[0;32mreturn\u001b[0m \u001b[0mnp\u001b[0m\u001b[0;34m.\u001b[0m\u001b[0margmax\u001b[0m\u001b[0;34m(\u001b[0m\u001b[0mprobs\u001b[0m\u001b[0;34m,\u001b[0m \u001b[0maxis\u001b[0m\u001b[0;34m=\u001b[0m\u001b[0;36m1\u001b[0m\u001b[0;34m)\u001b[0m\u001b[0;34m\u001b[0m\u001b[0;34m\u001b[0m\u001b[0m\n\u001b[1;32m    297\u001b[0m \u001b[0;34m\u001b[0m\u001b[0m\n",
      "\u001b[0;32m/anaconda/envs/azureml_py36/lib/python3.6/site-packages/mixed_naive_bayes/mixed_naive_bayes.py\u001b[0m in \u001b[0;36mpredict_proba\u001b[0;34m(self, X_test, verbose)\u001b[0m\n\u001b[1;32m    259\u001b[0m             probas = [categorical_posterior[:, X[:, i][:, np.newaxis]]\n\u001b[1;32m    260\u001b[0m                       \u001b[0;32mfor\u001b[0m \u001b[0mi\u001b[0m\u001b[0;34m,\u001b[0m \u001b[0mcategorical_posterior\u001b[0m\u001b[0;34m\u001b[0m\u001b[0;34m\u001b[0m\u001b[0m\n\u001b[0;32m--> 261\u001b[0;31m                       in enumerate(self.categorical_posteriors)]\n\u001b[0m\u001b[1;32m    262\u001b[0m \u001b[0;34m\u001b[0m\u001b[0m\n\u001b[1;32m    263\u001b[0m             \u001b[0mr\u001b[0m \u001b[0;34m=\u001b[0m \u001b[0mnp\u001b[0m\u001b[0;34m.\u001b[0m\u001b[0mconcatenate\u001b[0m\u001b[0;34m(\u001b[0m\u001b[0;34m[\u001b[0m\u001b[0mprobas\u001b[0m\u001b[0;34m]\u001b[0m\u001b[0;34m,\u001b[0m \u001b[0maxis\u001b[0m\u001b[0;34m=\u001b[0m\u001b[0;36m0\u001b[0m\u001b[0;34m)\u001b[0m\u001b[0;34m\u001b[0m\u001b[0;34m\u001b[0m\u001b[0m\n",
      "\u001b[0;32m/anaconda/envs/azureml_py36/lib/python3.6/site-packages/mixed_naive_bayes/mixed_naive_bayes.py\u001b[0m in \u001b[0;36m<listcomp>\u001b[0;34m(.0)\u001b[0m\n\u001b[1;32m    258\u001b[0m             \u001b[0;31m# Shape of each item is (num_classes,1,num_samples)\u001b[0m\u001b[0;34m\u001b[0m\u001b[0;34m\u001b[0m\u001b[0;34m\u001b[0m\u001b[0m\n\u001b[1;32m    259\u001b[0m             probas = [categorical_posterior[:, X[:, i][:, np.newaxis]]\n\u001b[0;32m--> 260\u001b[0;31m                       \u001b[0;32mfor\u001b[0m \u001b[0mi\u001b[0m\u001b[0;34m,\u001b[0m \u001b[0mcategorical_posterior\u001b[0m\u001b[0;34m\u001b[0m\u001b[0;34m\u001b[0m\u001b[0m\n\u001b[0m\u001b[1;32m    261\u001b[0m                       in enumerate(self.categorical_posteriors)]\n\u001b[1;32m    262\u001b[0m \u001b[0;34m\u001b[0m\u001b[0m\n",
      "\u001b[0;31mIndexError\u001b[0m: index 3 is out of bounds for axis 1 with size 3"
     ]
    }
   ],
   "source": [
    "# already installed the package with pip install mixed-naive-bayes\n",
    "from sklearn.feature_selection import SelectKBest, chi2\n",
    "from mixed_naive_bayes import MixedNB\n",
    "\n",
    "indices=[]\n",
    "attributes = list(train_x)\n",
    "attributes = [a for a in attributes if a not in ('age', 'absences')]\n",
    "\n",
    "for attr in attributes:\n",
    "    indices.append(train_x.columns.get_loc(attr))\n",
    "\n",
    "clf = MixedNB(categorical_features=indices)\n",
    "\n",
    "clf.fit(train_x,train_y)\n",
    "pred = clf.predict(test_x)\n",
    "\n",
    "\n",
    "cm=metrics.confusion_matrix(test_y,pred)\n",
    "df_cm = pd.DataFrame(cm, range(3), range(3))\n",
    "\n",
    "sn.set(font_scale=1.4) # for label size\n",
    "sn.heatmap(df_cm, annot=True, annot_kws={\"size\": 16}) # font size\n",
    "\n",
    "\n",
    "# calculate accuracy of the model\n",
    "sum(pred==test_y)/len(test_y)\n",
    "\n",
    "#best\n",
    "\n",
    " \n"
   ]
  },
  {
   "cell_type": "code",
   "execution_count": 632,
   "metadata": {},
   "outputs": [
    {
     "name": "stdout",
     "output_type": "stream",
     "text": [
      "<class 'pandas.core.frame.DataFrame'>\n",
      "RangeIndex: 120 entries, 0 to 119\n",
      "Data columns (total 15 columns):\n",
      "school        120 non-null int64\n",
      "sex           120 non-null int64\n",
      "Medu          120 non-null int64\n",
      "Fedu          120 non-null int64\n",
      "Mjob          120 non-null int64\n",
      "Fjob          120 non-null int64\n",
      "traveltime    120 non-null int64\n",
      "studytime     120 non-null int64\n",
      "failures      120 non-null int64\n",
      "schoolsup     120 non-null int64\n",
      "paid          120 non-null int64\n",
      "romantic      120 non-null int64\n",
      "Dalc          120 non-null int64\n",
      "Walc          120 non-null int64\n",
      "absences      120 non-null int64\n",
      "dtypes: int64(15)\n",
      "memory usage: 14.1 KB\n",
      "None\n"
     ]
    }
   ],
   "source": [
    "# selected features\n",
    "print(df_selected.info())"
   ]
  },
  {
   "cell_type": "markdown",
   "metadata": {},
   "source": [
    "## Clustering"
   ]
  },
  {
   "cell_type": "code",
   "execution_count": null,
   "metadata": {},
   "outputs": [],
   "source": []
  }
 ],
 "metadata": {
  "kernelspec": {
   "display_name": "Python 3.6 - AzureML",
   "language": "python",
   "name": "python3-azureml"
  },
  "language_info": {
   "codemirror_mode": {
    "name": "ipython",
    "version": 3
   },
   "file_extension": ".py",
   "mimetype": "text/x-python",
   "name": "python",
   "nbconvert_exporter": "python",
   "pygments_lexer": "ipython3",
   "version": "3.6.9"
  }
 },
 "nbformat": 4,
 "nbformat_minor": 2
}
