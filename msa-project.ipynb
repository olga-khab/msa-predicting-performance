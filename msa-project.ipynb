{
 "cells": [
  {
   "cell_type": "markdown",
   "metadata": {},
   "source": [
    "# Education ..."
   ]
  },
  {
   "cell_type": "markdown",
   "metadata": {},
   "source": [
    "Project descriptions"
   ]
  },
  {
   "cell_type": "markdown",
   "metadata": {},
   "source": [
    "## Step 1: Loading and exploring the dataset"
   ]
  },
  {
   "cell_type": "code",
   "execution_count": 811,
   "metadata": {
    "scrolled": true
   },
   "outputs": [],
   "source": [
    "import pandas as pd\n",
    "# read in the mathematics dataset\n",
    "maths_df = pd.read_csv(\"student-por.csv\", sep=\";\")\n"
   ]
  },
  {
   "cell_type": "markdown",
   "metadata": {},
   "source": [
    "## Step 2: Pre-processing"
   ]
  },
  {
   "cell_type": "code",
   "execution_count": 812,
   "metadata": {},
   "outputs": [
    {
     "name": "stdout",
     "output_type": "stream",
     "text": [
      "False\n"
     ]
    }
   ],
   "source": [
    "# Check for missing values\n",
    "print(maths_df.isnull().values.any())"
   ]
  },
  {
   "cell_type": "markdown",
   "metadata": {},
   "source": [
    "G3 (final year grade) was calculated using G1 and G2 (1st and 2nd period grades). We will use G3 as the responce variable and later on as the class variable by converitng it to a discrete scale. Since G3 is correlated with G1 and G2, the period grade variables will not be used as predictors in this analysis.\n",
    "\n",
    "About categorical/numeric..."
   ]
  },
  {
   "cell_type": "markdown",
   "metadata": {},
   "source": []
  },
  {
   "cell_type": "code",
   "execution_count": 813,
   "metadata": {},
   "outputs": [],
   "source": [
    "# Remove G1 and G2 \n",
    "df = maths_df.drop(['G1', 'G2'], axis = 1)\n",
    "\n",
    "#df.info()\n",
    "#<-------------------- Convert grade to a discrete scale ---------------------->#\n",
    "# Conversion intervals based on Portugal's grade classification system\n",
    "\n",
    "'''\n",
    "conditions = [\n",
    "    (df['G3'] >= 0) & (df['G3'] < 7),\n",
    "    (df['G3'] >= 7) & (df['G3'] < 10),\n",
    "    (df['G3'] >= 10) & (df['G3'] < 14),\n",
    "    (df['G3'] >= 14) & (df['G3'] < 16),\n",
    "    (df['G3'] >= 16) & (df['G3'] < 18),\n",
    "    (df['G3'] >= 18) & (df['G3'] <= 20)\n",
    "]\n",
    "choices = ['very poor', 'poor', 'sufficient', 'good', 'very good', 'excellent']\n",
    "'''\n",
    "\n",
    "# a less fragmented classification with groups lumped together\n",
    "\n",
    "conditions = [\n",
    "    (df['G3'] >= 0) & (df['G3'] < 10),\n",
    "    (df['G3'] >= 10) & (df['G3'] < 16),\n",
    "    (df['G3'] >= 16) & (df['G3'] <= 20)\n",
    "]\n",
    "\n",
    "choices = ['very poor to poor', 'sufficient to good', 'very good to excellent']\n",
    "\n",
    "\n",
    "# corresponding grade classifications\n",
    "\n",
    "df['G3_discrete'] = np.select(conditions, choices)\n",
    "\n",
    "conditions_binary = [\n",
    "    (df['G3'] >= 0) & (df['G3'] < 10),\n",
    "    (df['G3'] >= 10) & (df['G3'] <= 20)\n",
    "]\n",
    "\n",
    "choices_binary = ['fail', 'pass']\n",
    "df['G3_binary'] = np.select(conditions_binary, choices_binary)\n",
    "\n",
    "# No longer need numeric grade column\n",
    "#df = df.drop('G3', axis=1)\n",
    "\n",
    "#<-------------------- Treat ordinal attributes as categorical, not numeric ---------------------->#\n",
    "\n",
    "# Get column names\n",
    "attributes = list(df)\n",
    "# Exclude the attributes that should be treated as numeric\n",
    "attributes = [a for a in attributes if a not in ('age', 'absences', 'G3')]\n",
    "for attribute in attributes:\n",
    "    df[attribute] = df[attribute].astype('category',copy=False)\n",
    "\n",
    "\n",
    "#<-------------------- Change labels to numeric values ---------------------->#\n",
    "\n",
    "# Some categorical variables are already encoded with numbers (e.g. studytime 0-4), we need to encode the rest\n",
    "# df.info()\n",
    "#attributes = list(df)\n",
    "#labels = [a for a in attributes if a not in ('age', 'absences', 'G3')]\n",
    "labels = df.select_dtypes(include=['category'])\n",
    "\n",
    "# object-type attributes are strings - we need to recode these\n",
    "#labels = df.select_dtypes(include = \"object\").columns\n",
    "from sklearn.preprocessing import LabelEncoder\n",
    "le = LabelEncoder()\n",
    "for l in labels:\n",
    "    df[l] = le.fit_transform(df[l].astype(str))\n",
    "#print(df.head())\n",
    "\n",
    "\n"
   ]
  },
  {
   "cell_type": "code",
   "execution_count": 814,
   "metadata": {},
   "outputs": [
    {
     "data": {
      "text/plain": [
       "<matplotlib.axes._subplots.AxesSubplot at 0x7fc67d65e9b0>"
      ]
     },
     "execution_count": 814,
     "metadata": {},
     "output_type": "execute_result"
    },
    {
     "data": {
      "image/png": "[encoded data removed]",
      "text/plain": [
       "<Figure size 432x288 with 1 Axes>"
      ]
     },
     "metadata": {},
     "output_type": "display_data"
    }
   ],
   "source": [
    "# check if G3 values make sense (are between 0 and 20)\n",
    "import seaborn as sn\n",
    "sn.set(color_codes=True)\n",
    "sn.distplot(df['G3'], kde=False)\n",
    "\n",
    "# As expected, the grade distribution is approximately bell-curved. \n",
    "# The class \"sufficient to good\" clearly dominates the dataset\n",
    "\n",
    "# Need to use under-sampling\n",
    "\n"
   ]
  },
  {
   "cell_type": "code",
   "execution_count": 876,
   "metadata": {},
   "outputs": [],
   "source": [
    "from sklearn.model_selection import train_test_split\n",
    "from sklearn.feature_selection import SelectKBest, chi2\n",
    "\n",
    "class_1 = df[df['G3_discrete'] == 1 ] \n",
    "class_0 = df[df['G3_discrete'] == 0 ].sample(len(class_1), random_state = 0)\n",
    "class_2 = df[df['G3_discrete'] == 2 ].sample(len(class_1), random_state = 0) \n",
    "frames = [class_1, class_2, class_0]\n",
    "balanced_sample = pd.concat(frames)\n",
    "\n",
    "#<-------------------- Correlation-Based Feature Selection -------------------------------------->\n",
    "from skfeature.function.statistical_based import CFS\n",
    "idx = CFS.cfs(X.values, y)\n",
    "#df_cfs = balanced_sample.columns[idx]\n",
    "df_cfs = balanced_sample.iloc[:, idx]\n",
    "\n",
    "#<-------------------- Feature Selection (Chi-squared) -------------------------------------->\n",
    "X = balanced_sample.drop(['G3_discrete','G3_binary', 'G3'], axis=1)\n",
    "y = balanced_sample['G3_discrete']\n",
    "selector = SelectKBest(chi2, k=14)\n",
    "feature_data = selector.fit_transform(X, y)\n",
    "mask=selector.get_support()\n",
    "feature_names = X.columns[mask]\n",
    "df_selected = pd.DataFrame(feature_data, columns=feature_names)\n",
    "\n",
    "# full dataset with feature selection\n",
    "df_selected_full = pd.DataFrame(feature_data, columns=feature_names)\n",
    "\n",
    "# Now split the data into training and testing (80/20)\n",
    "train_x, test_x, train_y, test_y = train_test_split(df_selected, y, stratify=y, test_size=0.2, random_state=42)\n",
    "# no feature selection\n",
    "# train_x, test_x, train_y, test_y = train_test_split(df.drop(['G3_discrete','G3_binary', 'G3', 'school'], axis=1), df['G3_discrete'],stratify=df['G3_discrete'], test_size=0.2, random_state=42)\n",
    "#g_class = GaussianNB()\n",
    "\n",
    "#Train the model using the training sets\n",
    "#g_class.fit(train_x, train_y)\n",
    "\n",
    "#Predict the response for test dataset\n",
    "#pred_y = g_class.predict(test_x)\n",
    "\n",
    "#cm=metrics.confusion_matrix(test_y,pred_y)\n",
    "#df_cm = pd.DataFrame(cm, range(6), range(6))\n",
    "\n",
    "#sn.set(font_scale=1.4) # for label size\n",
    "#sn.heatmap(df_cm, annot=True, annot_kws={\"size\": 16}) # font size\n",
    "\n",
    "#plt.show()\n",
    "\n",
    "#np.count_nonzero(pred_y!=test_y)\n",
    "\n",
    "#sum(train_y==2)"
   ]
  },
  {
   "cell_type": "code",
   "execution_count": 877,
   "metadata": {},
   "outputs": [
    {
     "name": "stdout",
     "output_type": "stream",
     "text": [
      "[2 5 5 5 4 4 4 4 2 2 5 5 5]\n",
      "              precision    recall  f1-score   support\n",
      "\n",
      "           0       0.69      0.69      0.69        16\n",
      "           1       0.77      0.59      0.67        17\n",
      "           2       0.67      0.82      0.74        17\n",
      "\n",
      "   micro avg       0.70      0.70      0.70        50\n",
      "   macro avg       0.71      0.70      0.70        50\n",
      "weighted avg       0.71      0.70      0.70        50\n",
      "\n",
      "0.7\n"
     ]
    },
    {
     "data": {
      "image/png": "[encoded data removed]",
      "text/plain": [
       "<Figure size 432x288 with 2 Axes>"
      ]
     },
     "metadata": {},
     "output_type": "display_data"
    }
   ],
   "source": [
    "# already installed the package with pip install mixed-naive-bayes\n",
    "from sklearn.feature_selection import SelectKBest, chi2\n",
    "from sklearn.metrics import classification_report\n",
    "from mixed_naive_bayes import MixedNB\n",
    "\n",
    "indices=[]\n",
    "attributes = list(train_x)\n",
    "attributes = [a for a in attributes if a not in ('age', 'absences')]\n",
    "#print(attributes)\n",
    "#print(train_x)\n",
    "for attr in attributes:\n",
    "    indices.append(train_x.columns.get_loc(attr))\n",
    "\n",
    "clf = MixedNB(categorical_features=indices)\n",
    "\n",
    "clf.fit(train_x,train_y)\n",
    "pred = clf.predict(test_x)\n",
    "\n",
    "cm=metrics.confusion_matrix(test_y,pred)\n",
    "df_cm = pd.DataFrame(cm, range(3), range(3))\n",
    "\n",
    "sn.set(font_scale=1.4) # for label size\n",
    "sn.heatmap(df_cm, annot=True, annot_kws={\"size\": 16}, cmap=\"summer\") # font size\n",
    "\n",
    "\n",
    "# calculate accuracy of the model\n",
    "sum(pred==test_y)/len(test_y)\n",
    "\n",
    "#best\n",
    "#l=['class 0', 'class 1', 'class 2']\n",
    "print(classification_report(test_y, pred))\n",
    "\n",
    "print(sum(pred==test_y)/len(test_y))\n"
   ]
  },
  {
   "cell_type": "code",
   "execution_count": 825,
   "metadata": {},
   "outputs": [
    {
     "name": "stdout",
     "output_type": "stream",
     "text": [
      "<class 'pandas.core.frame.DataFrame'>\n",
      "RangeIndex: 246 entries, 0 to 245\n",
      "Data columns (total 14 columns):\n",
      "school        246 non-null int64\n",
      "Medu          246 non-null int64\n",
      "Fedu          246 non-null int64\n",
      "Mjob          246 non-null int64\n",
      "reason        246 non-null int64\n",
      "traveltime    246 non-null int64\n",
      "studytime     246 non-null int64\n",
      "failures      246 non-null int64\n",
      "schoolsup     246 non-null int64\n",
      "higher        246 non-null int64\n",
      "freetime      246 non-null int64\n",
      "Dalc          246 non-null int64\n",
      "Walc          246 non-null int64\n",
      "absences      246 non-null int64\n",
      "dtypes: int64(14)\n",
      "memory usage: 27.0 KB\n",
      "None\n"
     ]
    }
   ],
   "source": [
    "# selected features\n",
    "print(df_selected.info())"
   ]
  },
  {
   "cell_type": "code",
   "execution_count": 848,
   "metadata": {},
   "outputs": [
    {
     "data": {
      "text/plain": [
       "array([14, 20,  0,  7, 25,  6, 10, 23, 13])"
      ]
     },
     "execution_count": 848,
     "metadata": {},
     "output_type": "execute_result"
    }
   ],
   "source": [
    "from skfeature.function.statistical_based import CFS\n",
    "idx = CFS.cfs(X.values, y)\n"
   ]
  },
  {
   "cell_type": "code",
   "execution_count": 833,
   "metadata": {},
   "outputs": [
    {
     "data": {
      "text/plain": [
       "'\\ntest_joint = pd.DataFrame(test_x, test_y, pred)\\nfpr = dict()\\ntpr = dict()\\nroc_auc = dict()\\nfor i in range(3):\\n    fpr[i], tpr[i], _ = roc_curve(test_y[test_y==i], pred[test_y==i])\\n    roc_auc[i] = auc(fpr[i], tpr[i])\\n'"
      ]
     },
     "execution_count": 833,
     "metadata": {},
     "output_type": "execute_result"
    }
   ],
   "source": [
    "# Plot ROC curve\n",
    "from sklearn.metrics import roc_curve, auc\n",
    "'''\n",
    "test_joint = pd.DataFrame(test_x, test_y, pred)\n",
    "fpr = dict()\n",
    "tpr = dict()\n",
    "roc_auc = dict()\n",
    "for i in range(3):\n",
    "    fpr[i], tpr[i], _ = roc_curve(test_y[test_y==i], pred[test_y==i])\n",
    "    roc_auc[i] = auc(fpr[i], tpr[i])\n",
    "'''\n",
    "\n"
   ]
  },
  {
   "cell_type": "code",
   "execution_count": 834,
   "metadata": {},
   "outputs": [
    {
     "name": "stdout",
     "output_type": "stream",
     "text": [
      "<class 'pandas.core.frame.DataFrame'>\n",
      "RangeIndex: 246 entries, 0 to 245\n",
      "Data columns (total 14 columns):\n",
      "school        246 non-null int64\n",
      "Medu          246 non-null int64\n",
      "Fedu          246 non-null int64\n",
      "Mjob          246 non-null int64\n",
      "reason        246 non-null int64\n",
      "traveltime    246 non-null int64\n",
      "studytime     246 non-null int64\n",
      "failures      246 non-null int64\n",
      "schoolsup     246 non-null int64\n",
      "higher        246 non-null int64\n",
      "freetime      246 non-null int64\n",
      "Dalc          246 non-null int64\n",
      "Walc          246 non-null int64\n",
      "absences      246 non-null int64\n",
      "dtypes: int64(14)\n",
      "memory usage: 27.0 KB\n",
      "None\n"
     ]
    },
    {
     "data": {
      "text/plain": [
       "<matplotlib.axes._subplots.AxesSubplot at 0x7fc674b06d30>"
      ]
     },
     "execution_count": 834,
     "metadata": {},
     "output_type": "execute_result"
    },
    {
     "data": {
      "image/png": "[encoded data removed]",
      "text/plain": [
       "<Figure size 432x288 with 1 Axes>"
      ]
     },
     "metadata": {},
     "output_type": "display_data"
    }
   ],
   "source": [
    "# Comments on NB assumptions\n",
    "#sn.distplot(df['age'], kde=False)\n",
    "print(df_selected.info())\n",
    "sn.distplot(df['absences'], kde=False)"
   ]
  },
  {
   "cell_type": "code",
   "execution_count": null,
   "metadata": {},
   "outputs": [],
   "source": []
  },
  {
   "cell_type": "code",
   "execution_count": null,
   "metadata": {},
   "outputs": [],
   "source": []
  },
  {
   "cell_type": "markdown",
   "metadata": {},
   "source": [
    "## Random forest"
   ]
  },
  {
   "cell_type": "code",
   "execution_count": 878,
   "metadata": {},
   "outputs": [],
   "source": [
    "from sklearn.ensemble import RandomForestRegressor\n",
    "# Instantiate model with 1000 decision trees\n",
    "rf = RandomForestRegressor(n_estimators = 1000, random_state = 42)\n",
    "# Train the model on training data\n",
    "rf.fit(train_x, train_y);\n",
    "\n"
   ]
  },
  {
   "cell_type": "code",
   "execution_count": 902,
   "metadata": {},
   "outputs": [
    {
     "name": "stdout",
     "output_type": "stream",
     "text": [
      "Mean Absolute Error: 0.61\n",
      "0.52\n"
     ]
    },
    {
     "data": {
      "image/png": "[encoded data removed]",
      "text/plain": [
       "<Figure size 432x288 with 1 Axes>"
      ]
     },
     "metadata": {},
     "output_type": "display_data"
    }
   ],
   "source": [
    "df['col_name'] = df['col_name'].astype('category')\n",
    "\n",
    "predictions = rf.predict(test_x)\n",
    "#print(sum(predictions==test_y)/len(test_y))\n",
    "# Calculate the absolute errors\n",
    "errors = abs(predictions - test_y)\n",
    "# Print out the mean absolute error (mae)\n",
    "print('Mean Absolute Error:', round(np.mean(errors), 2))\n",
    "#predictions\n",
    "#for p in predictions:\n",
    "#    p = np.round(p)\n",
    "    \n",
    "predictions = [np.round(p) for p in predictions]\n",
    "print(sum(predictions==test_y)/len(test_y))\n",
    "#predictions\n",
    "\n",
    "# Import tools needed for visualization\n",
    "from sklearn.tree import export_graphviz\n",
    "import pydot\n",
    "# Pull out one tree from the forest\n",
    "tree = rf.estimators_[5]\n",
    "# Import tools needed for visualization\n",
    "from sklearn.tree import export_graphviz\n",
    "\n",
    "# sudo apt install python-pydot python-pydot-ng graphviz\n",
    "import pydot\n",
    "# Pull out one tree from the forest\n",
    "tree = rf.estimators_[5]\n",
    "# Export the image to a dot file\n",
    "export_graphviz(tree, out_file = 'tree.dot',  rounded = True, precision = 1)\n",
    "# Use dot file to create a graph\n",
    "(graph, ) = pydot.graph_from_dot_file('tree.dot')\n",
    "# Write graph to a png file\n",
    "graph.write_png('tree.png')\n",
    "\n",
    "import matplotlib.pyplot as plt\n",
    "import matplotlib.image as mpimg\n",
    "\n",
    "img = mpimg.imread('tree.png')\n",
    "plt.imshow(img)\n",
    "plt.show()"
   ]
  },
  {
   "cell_type": "code",
   "execution_count": null,
   "metadata": {},
   "outputs": [],
   "source": []
  }
 ],
 "metadata": {
  "kernelspec": {
   "display_name": "Python 3.6 - AzureML",
   "language": "python",
   "name": "python3-azureml"
  },
  "language_info": {
   "codemirror_mode": {
    "name": "ipython",
    "version": 3
   },
   "file_extension": ".py",
   "mimetype": "text/x-python",
   "name": "python",
   "nbconvert_exporter": "python",
   "pygments_lexer": "ipython3",
   "version": "3.6.9"
  }
 },
 "nbformat": 4,
 "nbformat_minor": 2
}
